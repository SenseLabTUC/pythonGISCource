{
 "cells": [
  {
   "cell_type": "markdown",
   "metadata": {},
   "source": [
    "<img src=\"img/tuc_logo.png\">\n",
    "\n",
    "# <center> Πολυτεχνείο Κρήτης </center>\n",
    "\n",
    "## <center> Γεωγραφικά Συστήματα Πληροφοριών </center>\n",
    "\n",
    "### Διδάσκων: Παναγιώτης Παρτσινέβελος\n",
    "### Εργαστήριο:  Γιώργος Πετράκης - Νίκος Σπανουδάκης\n",
    "\n",
    "\n",
    "# Python & GIS\n",
    "\n",
    "Τι θα διδαχθείτε στο εργαστήριο Python & GIS:\n",
    " \n",
    " * Γιατί να μάθω Python ;\n",
    " * Οδηγίες φόρτωσης προγραμματιστικού περιβάλλοντος\n",
    " * Συνοπτική εισαγωγή στη Python\n",
    " * GIS Python Βιβλιοθήκες\n",
    " * Επεξεργασία γεωχωρικών δεδομένων με Python \n",
    "\n",
    "\n",
    "\n",
    "\n",
    "\n",
    "### Περιγραφή εργαστηρίου Python & GIS\n",
    "\n",
    "Το εργαστήριο αυτό δημιουργήθηκε για να σας εισάγει στη γλώσσα Python με προσανατολισμό τις GIS εφαρμογές, τα χωρικά προβλήματα και τις γεω-επιστήμες γενικότερα.\n",
    "\n",
    "### Γιατί να μάθω Python ;\n",
    "\n",
    "<img src=\"img/python_logo2.jpg\">\n",
    "\n",
    "* Είναι η πιο δημοφιλής γλώσσα προγραμματισμού στις μέρες μας\n",
    "* Είναι εύκολη στην εκμάθηση της\n",
    "* Είναι ανοιχτού κώδικα\n",
    "* Έχει μεγάλη και ενεργή κοινότητα\n",
    "* Υπάρχει μεγάλη πληθώρα βιβλιοθηκών και τεχνολογιών βασισμένες στην Python\n",
    "* Καλύπτει μεγάλο εύρος εφαρμογών\n",
    "* Χρησιμοποιείται ιδιαίτερα στις γεω-επιστήμες\n",
    "* Αποτελεί ιδανική εναλλακτική για εφαρμογή στον επιστημονικό προγραμματισμό"
   ]
  },
  {
   "cell_type": "markdown",
   "metadata": {},
   "source": [
    "# Οδηγίες φόρτωσης προγραμματιστικού περιβάλλοντος\n",
    "\n",
    "Για να πειραματιστείτε με την ύλη που θα διδαχθείτε στο εργαστήριο της Python & GIS, θα πρέπει να φορτώσετε ένα Python περιβάλλον στο οποίο θα εγκατασταθούν όλα όσα θα χρησιμοποιήσετε. Η κύρια πλατφόρμα που θα χρησιμοποιήσετε για το εργαστήριο αυτό είναι το Jupyter notebook (https://jupyter.org/), μία πλατφόρμα προγραμματισμού που προσφέρει πολλές δυνατότητες στους προγραμματιστές. Για να ενεργοποιηθεί το περιβάλλον αυτό, ακολουθήστε τις παρακάτω οδηγίες:\n",
    "\n",
    "### Cloud setup\n",
    "Ανοίξτε έναν browser (οποιονδήποτε εκτός από τον Internet Explorer) και εισάγετε την παρακάτω διεύθυνση:\n",
    "https://mybinder.org/v2/gh/SenseLabTUC/pythonGISCourse/master\n",
    "\n",
    "Στη συνέχεια περιμένετε μερικά λεπτά όσο θα φορτώνετε το περιβάλλον. Όταν τελειώσει θα σας εισάγει αυτόματα στο περιβάλλον του μαθήματος.\n",
    "\n",
    "# Προσοχή !\n",
    "Ο χώρος αυτός είναι ένας προσωρινός χώρος που δημιουργείτε για κάθε χρήστη στο cloud. Πριν βγείτε από το περιβάλλον αυτό (ή κλείσετε το browser που δουλεύετε) πρέπει να κατεβάσετε το αρχείο αυτό επιλέγοντας από το menu:\n",
    "File --> Download as --> Notebook (.ipynb). Διαφορετικά ότι έχετε κάνει θα χαθεί ! <br>\n",
    "Όταν θέλετε να συνεχίσετε την εργασία θα εισάγετε ξανά το παραπάνω link και θα ανεβάσετε επιλέγοντας το πλήκτρο \"upload\", το αρχείο .ipynb που κατεβάσατε στο προηγούμενο βήμα."
   ]
  },
  {
   "cell_type": "markdown",
   "metadata": {},
   "source": [
    "## Ένα ποίημα για αρχή..."
   ]
  },
  {
   "cell_type": "code",
   "execution_count": 1,
   "metadata": {},
   "outputs": [
    {
     "name": "stdout",
     "output_type": "stream",
     "text": [
      "The Zen of Python, by Tim Peters\n",
      "\n",
      "Beautiful is better than ugly.\n",
      "Explicit is better than implicit.\n",
      "Simple is better than complex.\n",
      "Complex is better than complicated.\n",
      "Flat is better than nested.\n",
      "Sparse is better than dense.\n",
      "Readability counts.\n",
      "Special cases aren't special enough to break the rules.\n",
      "Although practicality beats purity.\n",
      "Errors should never pass silently.\n",
      "Unless explicitly silenced.\n",
      "In the face of ambiguity, refuse the temptation to guess.\n",
      "There should be one-- and preferably only one --obvious way to do it.\n",
      "Although that way may not be obvious at first unless you're Dutch.\n",
      "Now is better than never.\n",
      "Although never is often better than *right* now.\n",
      "If the implementation is hard to explain, it's a bad idea.\n",
      "If the implementation is easy to explain, it may be a good idea.\n",
      "Namespaces are one honking great idea -- let's do more of those!\n"
     ]
    }
   ],
   "source": [
    "import this"
   ]
  },
  {
   "cell_type": "markdown",
   "metadata": {},
   "source": [
    "# Τα βασικά της Python\n",
    "\n",
    "### Αριθμητικές πράξεις, Μεταβλητές και Συναρτήσεις\n",
    "\n",
    "Η Python, μπορεί να χρησιμοποιηθεί σαν απλή αριθμητική μηχανή (calculator):"
   ]
  },
  {
   "cell_type": "code",
   "execution_count": 2,
   "metadata": {
    "collapsed": false,
    "jupyter": {
     "outputs_hidden": false
    }
   },
   "outputs": [
    {
     "data": {
      "text/plain": [
       "2"
      ]
     },
     "execution_count": 2,
     "metadata": {},
     "output_type": "execute_result"
    }
   ],
   "source": [
    "1 + 1"
   ]
  },
  {
   "cell_type": "code",
   "execution_count": 4,
   "metadata": {
    "collapsed": false,
    "jupyter": {
     "outputs_hidden": false
    }
   },
   "outputs": [
    {
     "data": {
      "text/plain": [
       "20"
      ]
     },
     "execution_count": 4,
     "metadata": {},
     "output_type": "execute_result"
    }
   ],
   "source": [
    "4 * 5"
   ]
  },
  {
   "cell_type": "markdown",
   "metadata": {},
   "source": [
    "### Συναρτήσεις\n",
    "\n",
    "Για πιο προχωρημένες μαθηματικές πράξεις μπορείτε να χρησιμοποιήσετε συναρτήσεις (functions). Οι συναρτήσεις είναι τμήματα κώδικα που εκτελούν μια συγκεκριμένη ενέργεια (πχ εμφάνιση του output στην οθόνη). \n",
    "Για τη χρήση των ενσωματωμένων μαθηματικών συναρτήσεων πρέπει να εισάγεται στην αρχή του προγράμματος την βιβλιοθήκη \"math\" με την εντολή \"import\"."
   ]
  },
  {
   "cell_type": "code",
   "execution_count": 5,
   "metadata": {
    "collapsed": false,
    "jupyter": {
     "outputs_hidden": false
    },
    "tags": [
     "raises-exception"
    ]
   },
   "outputs": [
    {
     "data": {
      "text/plain": [
       "0.1411200080598672"
      ]
     },
     "execution_count": 5,
     "metadata": {},
     "output_type": "execute_result"
    }
   ],
   "source": [
    "import math\n",
    "\n",
    "math.sin(3)"
   ]
  },
  {
   "cell_type": "code",
   "execution_count": 6,
   "metadata": {
    "collapsed": false,
    "jupyter": {
     "outputs_hidden": false
    },
    "tags": [
     "raises-exception"
    ]
   },
   "outputs": [
    {
     "data": {
      "text/plain": [
       "2.0"
      ]
     },
     "execution_count": 6,
     "metadata": {},
     "output_type": "execute_result"
    }
   ],
   "source": [
    "math.sqrt(4)"
   ]
  },
  {
   "cell_type": "code",
   "execution_count": 7,
   "metadata": {},
   "outputs": [
    {
     "data": {
      "text/plain": [
       "3.141592653589793"
      ]
     },
     "execution_count": 7,
     "metadata": {},
     "output_type": "execute_result"
    }
   ],
   "source": [
    "math.pi"
   ]
  },
  {
   "cell_type": "markdown",
   "metadata": {},
   "source": [
    "### Η συνάρτηση print()\n",
    "\n",
    "Για να εμφανίσετε αποτελέσματα του προγράμματος σας στην οθόνη χρησιμοποιείστε την συνάρτηση print()."
   ]
  },
  {
   "cell_type": "code",
   "execution_count": 9,
   "metadata": {
    "collapsed": false,
    "jupyter": {
     "outputs_hidden": false
    }
   },
   "outputs": [
    {
     "ename": "SyntaxError",
     "evalue": "invalid syntax (<ipython-input-9-95ba2415adf0>, line 1)",
     "output_type": "error",
     "traceback": [
      "\u001b[0;36m  File \u001b[0;32m\"<ipython-input-9-95ba2415adf0>\"\u001b[0;36m, line \u001b[0;32m1\u001b[0m\n\u001b[0;31m    print(My name is George)\u001b[0m\n\u001b[0m             ^\u001b[0m\n\u001b[0;31mSyntaxError\u001b[0m\u001b[0;31m:\u001b[0m invalid syntax\n"
     ]
    }
   ],
   "source": [
    "print(My name is George)"
   ]
  },
  {
   "cell_type": "code",
   "execution_count": 11,
   "metadata": {
    "collapsed": false,
    "jupyter": {
     "outputs_hidden": false
    }
   },
   "outputs": [
    {
     "name": "stdout",
     "output_type": "stream",
     "text": [
      "The square root of 7 is 2.6457513110645907\n"
     ]
    }
   ],
   "source": [
    "print('The square root of 7 is', math.sqrt(7))"
   ]
  },
  {
   "cell_type": "markdown",
   "metadata": {},
   "source": [
    "### Μεταβλητές\n",
    "\n",
    "Οι μεταβλητή (variable), είναι ένα συμβολικό όνομα μιας περιοχής της μνήμης στην οποία μπορούμε να αποθηκεύσουμε και να ανακτήσουμε δεδομένα μέσω του συμβολικού αυτού ονόματος.\n"
   ]
  },
  {
   "cell_type": "code",
   "execution_count": 12,
   "metadata": {
    "collapsed": false,
    "jupyter": {
     "outputs_hidden": false
    }
   },
   "outputs": [
    {
     "name": "stdout",
     "output_type": "stream",
     "text": [
      "10\n"
     ]
    }
   ],
   "source": [
    "elevation = 10\n",
    "print(elevation)"
   ]
  },
  {
   "cell_type": "markdown",
   "metadata": {},
   "source": [
    "### Tύποι δεδομένων\n",
    "\n",
    "| Data type name | Data type            | Example    |\n",
    "| -------------- | -------------------- | ---------- |\n",
    "| `int`          | Whole integer values | `4`        |\n",
    "| `float`        | Decimal values       | `3.1415`   |\n",
    "| `str`          | Character strings    | `'Hot'`    |\n",
    "| `bool`         | True/false values    | `True`     |\n",
    "\n",
    "Ο τύπος δεδομένων μπορεί να βρεθεί χρησιμοποιώντας τη συνάρτηση `type()`"
   ]
  },
  {
   "cell_type": "code",
   "execution_count": 15,
   "metadata": {
    "collapsed": false,
    "jupyter": {
     "outputs_hidden": false
    }
   },
   "outputs": [
    {
     "data": {
      "text/plain": [
       "bool"
      ]
     },
     "execution_count": 15,
     "metadata": {},
     "output_type": "execute_result"
    }
   ],
   "source": [
    "x = True\n",
    "type(x)"
   ]
  },
  {
   "cell_type": "markdown",
   "metadata": {},
   "source": [
    "### Είσοδος χρήστη\n",
    "\n",
    "Με την συνάρτηση `input()`, είναι δυνατή η είσοδος του χρήστη:"
   ]
  },
  {
   "cell_type": "code",
   "execution_count": 16,
   "metadata": {
    "collapsed": false,
    "jupyter": {
     "outputs_hidden": false
    },
    "tags": [
     "raises-exception"
    ]
   },
   "outputs": [
    {
     "name": "stdout",
     "output_type": "stream",
     "text": [
      "What is your name ? George\n",
      "Nice to meet you George\n"
     ]
    }
   ],
   "source": [
    "name = input('What is your name ? ')\n",
    "print('Nice to meet you', name)"
   ]
  },
  {
   "cell_type": "markdown",
   "metadata": {},
   "source": [
    "### Συλλογές Δεδομένων\n",
    "\n",
    "* List\n",
    "* Tuple\n",
    "* Set \n",
    "* Dictionary"
   ]
  },
  {
   "cell_type": "code",
   "execution_count": 31,
   "metadata": {},
   "outputs": [
    {
     "name": "stdout",
     "output_type": "stream",
     "text": [
      "['apple', 'banana', 'orange', 'watermelon']\n",
      "orange\n",
      "watermelon\n",
      "['banana', 'orange']\n",
      "['banana', 'orange', 'watermelon']\n",
      "['apple', 'banana', 'orange', 'watermelon']\n",
      "['apple', 'cherry', 'orange', 'watermelon']\n",
      "['apple', 'cherry', 'orange', 'watermelon', 'pear']\n"
     ]
    }
   ],
   "source": [
    "# A list\n",
    "fruits = [\"apple\", \"banana\", \"orange\", \"watermelon\"]\n",
    "\n",
    "print(fruits)\n",
    "\n",
    "# Access items\n",
    "print(fruits[2])\n",
    "print(fruits[-1])\n",
    "\n",
    "# Range of indexes\n",
    "print(fruits[1:3])\n",
    "print(fruits[1:])\n",
    "print(fruits[:4])\n",
    "\n",
    "fruits[1] = 'cherry'\n",
    "print(fruits)\n",
    "\n",
    "fruits.append('pear')\n",
    "print(fruits)"
   ]
  },
  {
   "cell_type": "code",
   "execution_count": 32,
   "metadata": {},
   "outputs": [
    {
     "name": "stdout",
     "output_type": "stream",
     "text": [
      "22000\n"
     ]
    }
   ],
   "source": [
    "# Find the max value in a list\n",
    "VW_polo = 22000\n",
    "Fiat_panda = 15000\n",
    "Toyota_yaris = 20000\n",
    "\n",
    "car_prices = [VW_polo, Fiat_panda, Toyota_yaris]\n",
    "print(max(car_prices))"
   ]
  },
  {
   "cell_type": "code",
   "execution_count": 2,
   "metadata": {},
   "outputs": [
    {
     "name": "stdout",
     "output_type": "stream",
     "text": [
      "('apple', 'banana', 'orange', 'watermelon')\n",
      "orange\n",
      "watermelon\n",
      "('banana', 'orange')\n",
      "('banana', 'orange', 'watermelon')\n",
      "('apple', 'banana', 'orange', 'watermelon')\n"
     ]
    },
    {
     "ename": "TypeError",
     "evalue": "'tuple' object does not support item assignment",
     "output_type": "error",
     "traceback": [
      "\u001b[0;31m---------------------------------------------------------------------------\u001b[0m",
      "\u001b[0;31mTypeError\u001b[0m                                 Traceback (most recent call last)",
      "Cell \u001b[0;32mIn[2], line 16\u001b[0m\n\u001b[1;32m     13\u001b[0m \u001b[38;5;28mprint\u001b[39m(fruits[:\u001b[38;5;241m4\u001b[39m])\n\u001b[1;32m     15\u001b[0m \u001b[38;5;66;03m# The following is not supported by tuples\u001b[39;00m\n\u001b[0;32m---> 16\u001b[0m \u001b[43mfruits\u001b[49m\u001b[43m[\u001b[49m\u001b[38;5;241;43m1\u001b[39;49m\u001b[43m]\u001b[49m \u001b[38;5;241m=\u001b[39m \u001b[38;5;124m'\u001b[39m\u001b[38;5;124mcherry\u001b[39m\u001b[38;5;124m'\u001b[39m\n\u001b[1;32m     17\u001b[0m \u001b[38;5;28mprint\u001b[39m(fruits)\n",
      "\u001b[0;31mTypeError\u001b[0m: 'tuple' object does not support item assignment"
     ]
    }
   ],
   "source": [
    "# A tuple\n",
    "\n",
    "fruits = (\"apple\", \"banana\", \"orange\", \"watermelon\")\n",
    "print(fruits)\n",
    "\n",
    "# Access items\n",
    "print(fruits[2])\n",
    "print(fruits[-1])\n",
    "\n",
    "# Range of indexes\n",
    "print(fruits[1:3])\n",
    "print(fruits[1:])\n",
    "print(fruits[:4])\n",
    "\n",
    "# The following is not supported by tuples\n",
    "fruits[1] = 'cherry'\n",
    "print(fruits)"
   ]
  },
  {
   "cell_type": "code",
   "execution_count": 35,
   "metadata": {},
   "outputs": [
    {
     "name": "stdout",
     "output_type": "stream",
     "text": [
      "{'brand': 'Toyota', 'model': 'yaris', 'year': 2020}\n",
      "yaris\n"
     ]
    }
   ],
   "source": [
    "# A dictionary\n",
    "car =\t{\n",
    "  \"brand\": \"Toyota\",\n",
    "  \"model\": \"yaris\",\n",
    "  \"year\": 2020\n",
    "}\n",
    "print(car)\n",
    "x = car[\"model\"]\n",
    "print(x)"
   ]
  },
  {
   "cell_type": "code",
   "execution_count": 1,
   "metadata": {},
   "outputs": [
    {
     "name": "stdout",
     "output_type": "stream",
     "text": [
      "VW Polo\n"
     ]
    }
   ],
   "source": [
    "# Get the max value from a dictionary\n",
    "car_price = {\n",
    "            \"Fiat Panda\": 15000,\n",
    "            \"Toyota Yaris\": 20000,\n",
    "            \"VW Polo\": 22000\n",
    "            }\n",
    "\n",
    "print(max(car_price, key=car_price.get))"
   ]
  },
  {
   "cell_type": "markdown",
   "metadata": {},
   "source": [
    "### if / if-else statement"
   ]
  },
  {
   "cell_type": "code",
   "execution_count": null,
   "metadata": {},
   "outputs": [],
   "source": [
    "x = 20\n",
    "y = 40\n",
    "if x > y:\n",
    "    print(\"x is greater than y\")\n",
    "elif x < y:\n",
    "    print(\"y is greater than x\")\n",
    "else:\n",
    "    print(\"x is equal with y\")"
   ]
  },
  {
   "cell_type": "markdown",
   "metadata": {},
   "source": [
    "### While loops"
   ]
  },
  {
   "cell_type": "code",
   "execution_count": 19,
   "metadata": {},
   "outputs": [
    {
     "name": "stdout",
     "output_type": "stream",
     "text": [
      "1\n",
      "2\n",
      "3\n",
      "4\n"
     ]
    }
   ],
   "source": [
    "i = 1\n",
    "while i < 10:\n",
    "    print(i)\n",
    "    if i == 4:\n",
    "        break\n",
    "    i = i + 1 "
   ]
  },
  {
   "cell_type": "markdown",
   "metadata": {},
   "source": [
    "### For loops"
   ]
  },
  {
   "cell_type": "code",
   "execution_count": 20,
   "metadata": {},
   "outputs": [
    {
     "name": "stdout",
     "output_type": "stream",
     "text": [
      "apple\n",
      "banana\n",
      "orange\n",
      "watermelon\n"
     ]
    }
   ],
   "source": [
    "fruits = ['apple', 'banana', 'orange', 'watermelon']\n",
    "for x in fruits:\n",
    "    print(x)"
   ]
  },
  {
   "cell_type": "code",
   "execution_count": 2,
   "metadata": {},
   "outputs": [
    {
     "name": "stdout",
     "output_type": "stream",
     "text": [
      "Fiat Panda 15000\n"
     ]
    }
   ],
   "source": [
    "# Show me the car that its price is less than 20000\n",
    "car_price = {\n",
    "            \"Fiat Panda\": 15000,\n",
    "            \"Toyota Yaris\": 20000,\n",
    "            \"VW Polo\": 22000\n",
    "            }\n",
    "\n",
    "for key, value in car_price.items():\n",
    "    if value < 20000:\n",
    "        print(key, value)\n"
   ]
  },
  {
   "cell_type": "markdown",
   "metadata": {},
   "source": [
    "### Συναρτήσεις"
   ]
  },
  {
   "cell_type": "code",
   "execution_count": 22,
   "metadata": {},
   "outputs": [
    {
     "name": "stdout",
     "output_type": "stream",
     "text": [
      "26\n"
     ]
    }
   ],
   "source": [
    "def eq(a, x, b):\n",
    "    y = a*x + b\n",
    "    return y\n",
    "\n",
    "solution = eq(3, 8, 2)\n",
    "print(solution)"
   ]
  },
  {
   "cell_type": "markdown",
   "metadata": {},
   "source": [
    "### Κλάσεις - Αντικείμενα"
   ]
  },
  {
   "cell_type": "code",
   "execution_count": 6,
   "metadata": {},
   "outputs": [
    {
     "name": "stdout",
     "output_type": "stream",
     "text": [
      "My dog is 4 years old\n",
      "Hello my name is Jack, I have black color and I'm 4 years old\n",
      "Lucy has white color\n",
      "Hello my name is Lucy, I have white color and I'm 2 years old\n"
     ]
    }
   ],
   "source": [
    "# Class definition\n",
    "class Dog():\n",
    "    def __init__(self, name, color, age):\n",
    "        self.name = name\n",
    "        self.color = color\n",
    "        self.age = age\n",
    "\n",
    "    def speak(self):\n",
    "        print(\"Hello my name is \" + self.name + \", I have \" \n",
    "              + self.color + \" color and I'm \" + str(self.age) + \" years old\")\n",
    "\n",
    "# Object definition\n",
    "d1 = Dog(\"Jack\", \"black\", 4)\n",
    "print(\"My dog is \" + str(d1.age) + \" years old\")\n",
    "\n",
    "d1.speak()\n",
    "\n",
    "d2 = Dog(\"Lucy\", \"white\", 2)\n",
    "print(\"Lucy has \" + d2.color + \" color\")\n",
    "\n",
    "d2.speak()\n"
   ]
  },
  {
   "cell_type": "markdown",
   "metadata": {},
   "source": [
    "# GIS Python βιβλιοθήκες\n",
    "\n",
    "### Data analysis & visualization:\n",
    "\n",
    "* Numpy –> Fundamental package for scientific computing with Python\n",
    "* Pandas –> High-performance, easy-to-use data structures and data analysis tools\n",
    "* Scipy –> A collection of numerical algorithms and domain-specific toolboxes, including signal processing, * optimization and statistics\n",
    "* Matplotlib –> Basic plotting library for Python\n",
    "        \n",
    "### GIS:\n",
    "\n",
    "* GDAL / OGR –> Fundamental package for processing vector and raster data formats (many modules below depend on this). Used for raster processing.\n",
    "* Geopandas –> Working with geospatial data in Python made easier, combines the capabilities of pandas and shapely.\n",
    "* Shapely –> Python package for manipulation and analysis of planar geometric objects (based on widely deployed GEOS).\n",
    "* Pyproj –> Performs cartographic transformations and geodetic computations (based on PROJ.4).\n",
    "* Rasterio –> Clean and fast and geospatial raster I/O for Python.\n",
    "\n",
    "Στο εργαστήριο αυτό θα χρησιμοποιήσουμε τις βιβλιοθήκες Geopandas, Shapely και Pyproj.\n",
    "* https://geopandas.org/\n",
    "* https://shapely.readthedocs.io/en/stable/manual.html\n",
    "* https://pyproj4.github.io/pyproj/stable/"
   ]
  },
  {
   "cell_type": "markdown",
   "metadata": {},
   "source": [
    "# Βασική γνώση απαραίτητη για τις ασκήσεις\n",
    "\n",
    "### Shapefile:\n",
    "Shapefile ειναι το format που θα χρησιμοποιήσουμε για τα διανυσματικά δεδομένα. Για την σωστή χρήση του αρχείου shapefile, πρέπει να υπάρχουν στον ίδιο φάκελο τα παρακάτω υπο-αρχεία:\n",
    "* .shp\n",
    "* .dbf\n",
    "* .shx\n",
    "* .prj\n",
    "\n",
    "### Κωδικοί EPSG:\n",
    "Οι EPSG κωδικοί αντιπροσωπεύουν συστήματα αναφοράς και χρησιμοποιούνται στα προγράμματα και τα πακέτα λογισμικού GIS για τον ορισμό / μετασχηματισμό / διαχείριση συστημάτων αναφοράς.\n"
   ]
  },
  {
   "cell_type": "markdown",
   "metadata": {},
   "source": [
    "# Γεωμετρικά αντικείμενα\n",
    "\n",
    "* Point\n",
    "* Line\n",
    "* Polygon\n",
    "------------------------\n",
    "* MultiPoint\n",
    "* MultiLineString\n",
    "* MultiPolygon"
   ]
  },
  {
   "cell_type": "markdown",
   "metadata": {},
   "source": [
    "### Point"
   ]
  },
  {
   "cell_type": "code",
   "execution_count": 8,
   "metadata": {},
   "outputs": [],
   "source": [
    "from shapely.geometry import Point, LineString, Polygon\n",
    "\n",
    "# Create a point\n",
    "point1 = Point(2.3, 4.2)\n",
    "point2 = Point(7.3, -35.1)\n",
    "point3 = Point(8.26, -3.456)\n",
    "point3D = Point(10.26, -2.456, 43)"
   ]
  },
  {
   "cell_type": "code",
   "execution_count": 9,
   "metadata": {},
   "outputs": [
    {
     "data": {
      "image/svg+xml": [
       "<svg xmlns=\"http://www.w3.org/2000/svg\" xmlns:xlink=\"http://www.w3.org/1999/xlink\" width=\"100.0\" height=\"100.0\" viewBox=\"1.2999999999999998 3.2 2.0 2.0\" preserveAspectRatio=\"xMinYMin meet\"><g transform=\"matrix(1,0,0,-1,0,8.4)\"><circle cx=\"2.3\" cy=\"4.2\" r=\"0.06\" stroke=\"#555555\" stroke-width=\"0.02\" fill=\"#66cc99\" opacity=\"0.6\" /></g></svg>"
      ],
      "text/plain": [
       "<POINT (2.3 4.2)>"
      ]
     },
     "execution_count": 9,
     "metadata": {},
     "output_type": "execute_result"
    }
   ],
   "source": [
    "point1"
   ]
  },
  {
   "cell_type": "code",
   "execution_count": 11,
   "metadata": {},
   "outputs": [
    {
     "name": "stdout",
     "output_type": "stream",
     "text": [
      "Distance between the points is 9.70 meters\n"
     ]
    }
   ],
   "source": [
    "# Calculate the distance between point1 and point2\n",
    "point_dist = point1.distance(point3)\n",
    "\n",
    "print(\"Distance between the points is {0:.2f} meters\".format(point_dist))"
   ]
  },
  {
   "cell_type": "markdown",
   "metadata": {},
   "source": [
    "### LineString"
   ]
  },
  {
   "cell_type": "code",
   "execution_count": 12,
   "metadata": {},
   "outputs": [],
   "source": [
    "# Create a LineString from our Point objects\n",
    "line = LineString([point1, point2, point3])\n",
    "\n",
    "# It is also possible to produce the same outcome using coordinate tuples\n",
    "line2 = LineString([(2.3, 4.2), (7.3, -35.1), (8.26, -3.456)])"
   ]
  },
  {
   "cell_type": "code",
   "execution_count": 13,
   "metadata": {},
   "outputs": [
    {
     "data": {
      "image/svg+xml": [
       "<svg xmlns=\"http://www.w3.org/2000/svg\" xmlns:xlink=\"http://www.w3.org/1999/xlink\" width=\"100.0\" height=\"100.0\" viewBox=\"0.7279999999999995 -36.672000000000004 9.104000000000001 42.444\" preserveAspectRatio=\"xMinYMin meet\"><g transform=\"matrix(1,0,0,-1,0,-30.900000000000006)\"><polyline fill=\"none\" stroke=\"#66cc99\" stroke-width=\"0.8488800000000001\" points=\"2.3,4.2 7.3,-35.1 8.26,-3.456\" opacity=\"0.8\" /></g></svg>"
      ],
      "text/plain": [
       "<LINESTRING (2.3 4.2, 7.3 -35.1, 8.26 -3.456)>"
      ]
     },
     "execution_count": 13,
     "metadata": {},
     "output_type": "execute_result"
    }
   ],
   "source": [
    "line"
   ]
  },
  {
   "cell_type": "code",
   "execution_count": 14,
   "metadata": {},
   "outputs": [
    {
     "name": "stdout",
     "output_type": "stream",
     "text": [
      "Length of our line: 71.28\n",
      "Centroid of our line:  POINT (6.123634431860776 -17.150292820524516)\n",
      "Type of the centroid: <class 'shapely.geometry.point.Point'>\n"
     ]
    }
   ],
   "source": [
    "# Get the lenght of the line\n",
    "l_length = line.length\n",
    "\n",
    "# Get the centroid of the line\n",
    "l_centroid = line.centroid\n",
    "\n",
    "# Print the outputs\n",
    "print(\"Length of our line: {0:.2f}\".format(l_length))\n",
    "print(\"Centroid of our line: \", l_centroid)\n",
    "print(\"Type of the centroid:\", type(l_centroid))"
   ]
  },
  {
   "cell_type": "markdown",
   "metadata": {},
   "source": [
    "### Polygon"
   ]
  },
  {
   "cell_type": "code",
   "execution_count": 15,
   "metadata": {},
   "outputs": [],
   "source": [
    "# Create a Polygon from the coordinates\n",
    "poly = Polygon([(2.3, 4.2), (7.3, -35.1), (8.26, -3.456)])\n",
    "\n",
    "# It is also possible to produce the same outcome using a list of lists which contain the point coordinates.\n",
    "# We can do this using the point objects we created before and a list comprehension:\n",
    "# --> here, we pass a list of lists as input when creating the Polygon (the list comprehension generates this list: [[2.2, 4.2], [7.2, -25.1], [9.26, -2.456]]):\n",
    "poly2 = Polygon([[p.x, p.y] for p in [point1, point2, point3]])\n"
   ]
  },
  {
   "cell_type": "code",
   "execution_count": 16,
   "metadata": {},
   "outputs": [
    {
     "data": {
      "image/svg+xml": [
       "<svg xmlns=\"http://www.w3.org/2000/svg\" xmlns:xlink=\"http://www.w3.org/1999/xlink\" width=\"100.0\" height=\"100.0\" viewBox=\"0.7279999999999995 -36.672000000000004 9.104000000000001 42.444\" preserveAspectRatio=\"xMinYMin meet\"><g transform=\"matrix(1,0,0,-1,0,-30.900000000000006)\"><path fill-rule=\"evenodd\" fill=\"#66cc99\" stroke=\"#555555\" stroke-width=\"0.8488800000000001\" opacity=\"0.6\" d=\"M 2.3,4.2 L 7.3,-35.1 L 8.26,-3.456 L 2.3,4.2 z\" /></g></svg>"
      ],
      "text/plain": [
       "<POLYGON ((2.3 4.2, 7.3 -35.1, 8.26 -3.456, 2.3 4.2))>"
      ]
     },
     "execution_count": 16,
     "metadata": {},
     "output_type": "execute_result"
    }
   ],
   "source": [
    "poly"
   ]
  },
  {
   "cell_type": "code",
   "execution_count": 17,
   "metadata": {},
   "outputs": [
    {
     "name": "stdout",
     "output_type": "stream",
     "text": [
      "poly: POLYGON ((2.3 4.2, 7.3 -35.1, 8.26 -3.456, 2.3 4.2))\n",
      "poly2: POLYGON ((2.3 4.2, 7.3 -35.1, 8.26 -3.456, 2.3 4.2))\n"
     ]
    }
   ],
   "source": [
    "print('poly:', poly)\n",
    "print('poly2:', poly2)"
   ]
  },
  {
   "cell_type": "code",
   "execution_count": 40,
   "metadata": {},
   "outputs": [
    {
     "name": "stdout",
     "output_type": "stream",
     "text": [
      "Poly centroid:  POINT (5.953333333333333 -11.452)\n",
      "Poly Area:  97.97400000000002\n",
      "Poly Bounding Box:  (2.3, -35.1, 8.26, 4.2)\n"
     ]
    }
   ],
   "source": [
    "# Get the centroid of the Polygon\n",
    "poly_centroid = poly.centroid\n",
    "\n",
    "# Get the area of the Polygon\n",
    "poly_area = poly.area\n",
    "\n",
    "poly_bbox = poly.bounds\n",
    "\n",
    "# Print the outputs\n",
    "print(\"Poly centroid: \", poly_centroid)\n",
    "print(\"Poly Area: \", poly_area)\n",
    "print(\"Poly Bounding Box: \", poly_bbox)"
   ]
  },
  {
   "cell_type": "markdown",
   "metadata": {},
   "source": [
    "### MultiPoint"
   ]
  },
  {
   "cell_type": "code",
   "execution_count": 18,
   "metadata": {},
   "outputs": [
    {
     "data": {
      "image/svg+xml": [
       "<svg xmlns=\"http://www.w3.org/2000/svg\" xmlns:xlink=\"http://www.w3.org/1999/xlink\" width=\"100.0\" height=\"100.0\" viewBox=\"-3.16 -0.16 4.32 4.32\" preserveAspectRatio=\"xMinYMin meet\"><g transform=\"matrix(1,0,0,-1,0,4.0)\"><g><circle cx=\"1.0\" cy=\"3.0\" r=\"0.1296\" stroke=\"#555555\" stroke-width=\"0.0432\" fill=\"#66cc99\" opacity=\"0.6\" /><circle cx=\"1.0\" cy=\"3.0\" r=\"0.1296\" stroke=\"#555555\" stroke-width=\"0.0432\" fill=\"#66cc99\" opacity=\"0.6\" /><circle cx=\"-3.0\" cy=\"4.0\" r=\"0.1296\" stroke=\"#555555\" stroke-width=\"0.0432\" fill=\"#66cc99\" opacity=\"0.6\" /><circle cx=\"1.0\" cy=\"0.0\" r=\"0.1296\" stroke=\"#555555\" stroke-width=\"0.0432\" fill=\"#66cc99\" opacity=\"0.6\" /></g></g></svg>"
      ],
      "text/plain": [
       "<MULTIPOINT (1 3, 1 3, -3 4, 1 0)>"
      ]
     },
     "execution_count": 18,
     "metadata": {},
     "output_type": "execute_result"
    }
   ],
   "source": [
    "import shapely\n",
    "\n",
    "coords = [(1, 3), (1, 3), (-3, 4), (1, 0)]\n",
    "pnt2 = shapely.geometry.MultiPoint(coords)\n",
    "pnt2"
   ]
  },
  {
   "cell_type": "markdown",
   "metadata": {},
   "source": [
    "### MultiLineString"
   ]
  },
  {
   "cell_type": "code",
   "execution_count": 19,
   "metadata": {},
   "outputs": [
    {
     "data": {
      "image/svg+xml": [
       "<svg xmlns=\"http://www.w3.org/2000/svg\" xmlns:xlink=\"http://www.w3.org/1999/xlink\" width=\"100.0\" height=\"100.0\" viewBox=\"-3.32 -3.32 7.640000000000001 8.64\" preserveAspectRatio=\"xMinYMin meet\"><g transform=\"matrix(1,0,0,-1,0,2.0000000000000004)\"><g><polyline fill=\"none\" stroke=\"#66cc99\" stroke-width=\"0.1728\" points=\"3.0,4.0 1.0,-1.0 -3.0,5.0 4.0,2.0\" opacity=\"0.8\" /><polyline fill=\"none\" stroke=\"#66cc99\" stroke-width=\"0.1728\" points=\"-3.0,4.0 1.0,-3.0 3.0,1.0\" opacity=\"0.8\" /></g></g></svg>"
      ],
      "text/plain": [
       "<MULTILINESTRING ((3 4, 1 -1, -3 5, 4 2), (-3 4, 1 -3, 3 1))>"
      ]
     },
     "execution_count": 19,
     "metadata": {},
     "output_type": "execute_result"
    }
   ],
   "source": [
    "l1 = shapely.geometry.LineString([(3, 4), (1, -1), (-3, 5), (4, 2)])\n",
    "l2 = shapely.geometry.LineString([(-3, 4), (1, -3), (3, 1)])\n",
    "line2 = shapely.geometry.MultiLineString([l1, l2])\n",
    "line2\n"
   ]
  },
  {
   "cell_type": "markdown",
   "metadata": {},
   "source": [
    "### MultiPolygon"
   ]
  },
  {
   "cell_type": "code",
   "execution_count": 20,
   "metadata": {},
   "outputs": [
    {
     "data": {
      "image/svg+xml": [
       "<svg xmlns=\"http://www.w3.org/2000/svg\" xmlns:xlink=\"http://www.w3.org/1999/xlink\" width=\"223.608\" height=\"300\" viewBox=\"-10.204 -48.504000000000005 223.608 361.908\" preserveAspectRatio=\"xMinYMin meet\"><g transform=\"matrix(1,0,0,-1,0,264.9)\"><g><path fill-rule=\"evenodd\" fill=\"#66cc99\" stroke=\"#555555\" stroke-width=\"2.41272\" opacity=\"0.6\" d=\"M 15.0,4.2 L 7.3,-35.1 L 200.0,-3.456 L 15.0,4.2 z\" /><path fill-rule=\"evenodd\" fill=\"#66cc99\" stroke=\"#555555\" stroke-width=\"2.41272\" opacity=\"0.6\" d=\"M 100.0,4.2 L 200.0,300.0 L 3.2,50.0 L 100.0,4.2 z\" /></g></g></svg>"
      ],
      "text/plain": [
       "<MULTIPOLYGON (((15 4.2, 7.3 -35.1, 200 -3.456, 15 4.2)), ((100 4.2, 200 300...>"
      ]
     },
     "execution_count": 20,
     "metadata": {},
     "output_type": "execute_result"
    }
   ],
   "source": [
    "poly1 = shapely.geometry.Polygon([(15, 4.2), (7.3, -35.1), (200, -3.456)])\n",
    "poly2 = shapely.geometry.Polygon([(100, 4.2), (200, 300), (3.2, 50)])\n",
    "\n",
    "shapely.geometry.MultiPolygon([poly1, poly2])\n",
    "                                  "
   ]
  },
  {
   "cell_type": "markdown",
   "metadata": {},
   "source": [
    "# Τοπολογικές σχέσεις\n",
    "\n",
    "### Σημείο εντός ή εκτός πολυγώνου\n",
    "Για να ελέγξουμε αν ένα σημείο είναι εντός ή εκτός πολυγώνου μπορούμε να χρησιμοποιήσουμε τις συναρτήσεις της βιβλιοθήκης shapely:\n",
    "* .within()\n",
    "* .contains()"
   ]
  },
  {
   "cell_type": "code",
   "execution_count": 21,
   "metadata": {},
   "outputs": [
    {
     "name": "stdout",
     "output_type": "stream",
     "text": [
      "POINT (24.0217 35.3031)\n",
      "POINT (24.1468 35.3215)\n",
      "POLYGON ((23.9308 35.3094, 24.0591 353459, 24.1432 35.2873, 23.9308 35.3094))\n"
     ]
    }
   ],
   "source": [
    "from shapely.geometry import Point, Polygon\n",
    "\n",
    "# Create Point objects\n",
    "p1 = Point(24.0217, 35.3031)\n",
    "p2 = Point(24.1468, 35.3215)\n",
    "\n",
    "# Create a Polygon object\n",
    "coords = [(23.9308, 35.3094), (24.0591, 353459), (24.1432, 35.2873)]\n",
    "poly = Polygon(coords)\n",
    "\n",
    "print(p1)\n",
    "print(p2)\n",
    "print(poly)"
   ]
  },
  {
   "cell_type": "code",
   "execution_count": 22,
   "metadata": {},
   "outputs": [
    {
     "data": {
      "text/plain": [
       "True"
      ]
     },
     "execution_count": 22,
     "metadata": {},
     "output_type": "execute_result"
    }
   ],
   "source": [
    "# Check if p1 is within the polygon using the within function\n",
    "p1.within(poly)"
   ]
  },
  {
   "cell_type": "code",
   "execution_count": 23,
   "metadata": {},
   "outputs": [
    {
     "data": {
      "text/plain": [
       "False"
      ]
     },
     "execution_count": 23,
     "metadata": {},
     "output_type": "execute_result"
    }
   ],
   "source": [
    "# Check if p2 is within the polygon\n",
    "p2.within(poly)"
   ]
  },
  {
   "cell_type": "code",
   "execution_count": 13,
   "metadata": {},
   "outputs": [
    {
     "data": {
      "text/plain": [
       "True"
      ]
     },
     "execution_count": 13,
     "metadata": {},
     "output_type": "execute_result"
    }
   ],
   "source": [
    "# Does polygon contain p1?\n",
    "poly.contains(p1)"
   ]
  },
  {
   "cell_type": "code",
   "execution_count": 14,
   "metadata": {},
   "outputs": [
    {
     "data": {
      "text/plain": [
       "False"
      ]
     },
     "execution_count": 14,
     "metadata": {},
     "output_type": "execute_result"
    }
   ],
   "source": [
    "# Does polygon contain p2?\n",
    "poly.contains(p2)"
   ]
  },
  {
   "cell_type": "markdown",
   "metadata": {},
   "source": [
    "### Τομή\n",
    "Για να ελέγξουμε αν ένα αντικείμενο τέμνεται με κάποιο άλλο χρησιμοποιούμε την συνάρτηση:\n",
    "* intersects()"
   ]
  },
  {
   "cell_type": "code",
   "execution_count": 24,
   "metadata": {},
   "outputs": [
    {
     "data": {
      "text/plain": [
       "False"
      ]
     },
     "execution_count": 24,
     "metadata": {},
     "output_type": "execute_result"
    }
   ],
   "source": [
    "from shapely.geometry import LineString, MultiLineString\n",
    "\n",
    "# Create two lines\n",
    "line_a = LineString([(0, 50), (1, 1)])\n",
    "line_b = LineString([(1, 2), (30, 2)])\n",
    "\n",
    "line_a.intersects(line_b)"
   ]
  },
  {
   "cell_type": "markdown",
   "metadata": {},
   "source": [
    "## Χωρικές επεξεργασίες"
   ]
  },
  {
   "cell_type": "markdown",
   "metadata": {},
   "source": [
    "### Δημιουργία νέων γεωμετριών"
   ]
  },
  {
   "cell_type": "markdown",
   "metadata": {},
   "source": [
    "* Buffer: .buffer\n",
    "* Intersection: .intersection\n",
    "* Union: .Union\n",
    "* Difference: .difference"
   ]
  },
  {
   "cell_type": "code",
   "execution_count": 5,
   "metadata": {},
   "outputs": [
    {
     "data": {
      "image/svg+xml": [
       "<svg xmlns=\"http://www.w3.org/2000/svg\" xmlns:xlink=\"http://www.w3.org/1999/xlink\" width=\"100.0\" height=\"100.0\" viewBox=\"-1.12 -1.12 3.24 2.24\" preserveAspectRatio=\"xMinYMin meet\"><g transform=\"matrix(1,0,0,-1,0,0.0)\"><g><path fill-rule=\"evenodd\" fill=\"#66cc99\" stroke=\"#555555\" stroke-width=\"0.06480000000000001\" opacity=\"0.6\" d=\"M 1.0,0.0 L 0.9951847266721969,-0.0980171403295606 L 0.9807852804032304,-0.19509032201612825 L 0.9569403357322088,-0.29028467725446233 L 0.9238795325112867,-0.3826834323650898 L 0.881921264348355,-0.47139673682599764 L 0.8314696123025452,-0.5555702330196022 L 0.773010453362737,-0.6343932841636455 L 0.7071067811865476,-0.7071067811865475 L 0.6343932841636455,-0.773010453362737 L 0.5555702330196023,-0.8314696123025452 L 0.4713967368259978,-0.8819212643483549 L 0.38268343236508984,-0.9238795325112867 L 0.29028467725446233,-0.9569403357322089 L 0.19509032201612833,-0.9807852804032304 L 0.09801714032956077,-0.9951847266721968 L 6.123233995736766e-17,-1.0 L -0.09801714032956065,-0.9951847266721969 L -0.1950903220161282,-0.9807852804032304 L -0.29028467725446216,-0.9569403357322089 L -0.3826834323650897,-0.9238795325112867 L -0.4713967368259977,-0.881921264348355 L -0.555570233019602,-0.8314696123025455 L -0.6343932841636454,-0.7730104533627371 L -0.7071067811865475,-0.7071067811865476 L -0.773010453362737,-0.6343932841636455 L -0.8314696123025453,-0.5555702330196022 L -0.8819212643483549,-0.47139673682599786 L -0.9238795325112867,-0.3826834323650899 L -0.9569403357322088,-0.2902846772544624 L -0.9807852804032304,-0.1950903220161286 L -0.9951847266721968,-0.09801714032956083 L -1.0,-1.2246467991473532e-16 L -0.9951847266721969,0.09801714032956059 L -0.9807852804032304,0.19509032201612836 L -0.9569403357322089,0.2902846772544621 L -0.9238795325112868,0.38268343236508967 L -0.881921264348355,0.47139673682599764 L -0.8314696123025455,0.555570233019602 L -0.7730104533627371,0.6343932841636453 L -0.7071067811865477,0.7071067811865475 L -0.6343932841636459,0.7730104533627367 L -0.5555702330196022,0.8314696123025452 L -0.47139673682599786,0.8819212643483549 L -0.38268343236509034,0.9238795325112865 L -0.29028467725446244,0.9569403357322088 L -0.19509032201612866,0.9807852804032303 L -0.09801714032956045,0.9951847266721969 L -1.8369701987210297e-16,1.0 L 0.09801714032956009,0.9951847266721969 L 0.1950903220161283,0.9807852804032304 L 0.29028467725446205,0.9569403357322089 L 0.38268343236509,0.9238795325112866 L 0.4713967368259976,0.881921264348355 L 0.5555702330196018,0.8314696123025455 L 0.6343932841636456,0.7730104533627369 L 0.7071067811865474,0.7071067811865477 L 0.7730104533627367,0.6343932841636459 L 0.8314696123025452,0.5555702330196022 L 0.8819212643483548,0.4713967368259979 L 0.9238795325112865,0.3826834323650904 L 0.9569403357322088,0.2902846772544625 L 0.9807852804032303,0.19509032201612872 L 0.9951847266721969,0.0980171403295605 L 1.0,0.0 z\" /><path fill-rule=\"evenodd\" fill=\"#66cc99\" stroke=\"#555555\" stroke-width=\"0.06480000000000001\" opacity=\"0.6\" d=\"M 2.0,0.0 L 1.995184726672197,-0.0980171403295606 L 1.9807852804032304,-0.19509032201612825 L 1.9569403357322088,-0.29028467725446233 L 1.9238795325112867,-0.3826834323650898 L 1.881921264348355,-0.47139673682599764 L 1.8314696123025453,-0.5555702330196022 L 1.7730104533627369,-0.6343932841636455 L 1.7071067811865475,-0.7071067811865475 L 1.6343932841636455,-0.773010453362737 L 1.5555702330196022,-0.8314696123025452 L 1.471396736825998,-0.8819212643483549 L 1.3826834323650898,-0.9238795325112867 L 1.2902846772544623,-0.9569403357322089 L 1.1950903220161284,-0.9807852804032304 L 1.0980171403295609,-0.9951847266721968 L 1.0,-1.0 L 0.9019828596704393,-0.9951847266721969 L 0.8049096779838718,-0.9807852804032304 L 0.7097153227455378,-0.9569403357322089 L 0.6173165676349103,-0.9238795325112867 L 0.5286032631740023,-0.881921264348355 L 0.44442976698039804,-0.8314696123025455 L 0.3656067158363546,-0.7730104533627371 L 0.29289321881345254,-0.7071067811865476 L 0.226989546637263,-0.6343932841636455 L 0.16853038769745465,-0.5555702330196022 L 0.11807873565164506,-0.47139673682599786 L 0.07612046748871326,-0.3826834323650899 L 0.043059664267791176,-0.2902846772544624 L 0.01921471959676957,-0.1950903220161286 L 0.004815273327803182,-0.09801714032956083 L 0.0,-1.2246467991473532e-16 L 0.004815273327803071,0.09801714032956059 L 0.01921471959676957,0.19509032201612836 L 0.043059664267791065,0.2902846772544621 L 0.07612046748871315,0.38268343236508967 L 0.11807873565164495,0.47139673682599764 L 0.16853038769745454,0.555570233019602 L 0.2269895466372629,0.6343932841636453 L 0.2928932188134523,0.7071067811865475 L 0.36560671583635407,0.7730104533627367 L 0.4444297669803978,0.8314696123025452 L 0.5286032631740021,0.8819212643483549 L 0.6173165676349097,0.9238795325112865 L 0.7097153227455375,0.9569403357322088 L 0.8049096779838714,0.9807852804032303 L 0.9019828596704396,0.9951847266721969 L 0.9999999999999998,1.0 L 1.09801714032956,0.9951847266721969 L 1.1950903220161284,0.9807852804032304 L 1.290284677254462,0.9569403357322089 L 1.38268343236509,0.9238795325112866 L 1.4713967368259975,0.881921264348355 L 1.5555702330196017,0.8314696123025455 L 1.6343932841636457,0.7730104533627369 L 1.7071067811865475,0.7071067811865477 L 1.7730104533627367,0.6343932841636459 L 1.8314696123025453,0.5555702330196022 L 1.881921264348355,0.4713967368259979 L 1.9238795325112865,0.3826834323650904 L 1.9569403357322088,0.2902846772544625 L 1.9807852804032304,0.19509032201612872 L 1.995184726672197,0.0980171403295605 L 2.0,0.0 z\" /></g></g></svg>"
      ],
      "text/plain": [
       "<GEOMETRYCOLLECTION (POLYGON ((1 0, 0.995 -0.098, 0.981 -0.195, 0.957 -0.29,...>"
      ]
     },
     "execution_count": 5,
     "metadata": {},
     "output_type": "execute_result"
    }
   ],
   "source": [
    "from shapely import geometry as gm\n",
    "from shapely import Point\n",
    "\n",
    "p1 = Point((0, 0))\n",
    "p2 = Point((1, 0))\n",
    "\n",
    "# Buffer implementation\n",
    "\n",
    "x = p1.buffer(1)\n",
    "y = p2.buffer(1)\n",
    "gm.GeometryCollection([x, y])"
   ]
  },
  {
   "cell_type": "code",
   "execution_count": 6,
   "metadata": {},
   "outputs": [
    {
     "data": {
      "image/svg+xml": [
       "<svg xmlns=\"http://www.w3.org/2000/svg\" xmlns:xlink=\"http://www.w3.org/1999/xlink\" width=\"100.0\" height=\"100.0\" viewBox=\"-0.06918217025390595 -0.9339592984277304 1.1383643405078119 1.8679185968554608\" preserveAspectRatio=\"xMinYMin meet\"><g transform=\"matrix(1,0,0,-1,0,0.0)\"><path fill-rule=\"evenodd\" fill=\"#66cc99\" stroke=\"#555555\" stroke-width=\"0.03735837193710922\" opacity=\"0.6\" d=\"M 0.9951847266721969,-0.0980171403295606 L 0.9807852804032304,-0.19509032201612825 L 0.9569403357322088,-0.29028467725446233 L 0.9238795325112867,-0.3826834323650898 L 0.881921264348355,-0.47139673682599764 L 0.8314696123025452,-0.5555702330196022 L 0.773010453362737,-0.6343932841636455 L 0.7071067811865476,-0.7071067811865475 L 0.6343932841636455,-0.773010453362737 L 0.5555702330196023,-0.8314696123025452 L 0.49999999999999994,-0.8647771281738245 L 0.44442976698039804,-0.8314696123025455 L 0.3656067158363546,-0.7730104533627371 L 0.29289321881345254,-0.7071067811865476 L 0.226989546637263,-0.6343932841636455 L 0.16853038769745465,-0.5555702330196022 L 0.11807873565164506,-0.47139673682599786 L 0.07612046748871326,-0.3826834323650899 L 0.043059664267791176,-0.2902846772544624 L 0.01921471959676957,-0.1950903220161286 L 0.004815273327803182,-0.09801714032956083 L 0.0,-1.2246467991473532e-16 L 0.004815273327803071,0.09801714032956059 L 0.01921471959676957,0.19509032201612836 L 0.043059664267791065,0.2902846772544621 L 0.07612046748871315,0.38268343236508967 L 0.11807873565164495,0.47139673682599764 L 0.16853038769745454,0.555570233019602 L 0.2269895466372629,0.6343932841636453 L 0.2928932188134523,0.7071067811865475 L 0.36560671583635407,0.7730104533627367 L 0.4444297669803978,0.8314696123025452 L 0.49999999999999994,0.8647771281738245 L 0.5555702330196018,0.8314696123025455 L 0.6343932841636456,0.7730104533627369 L 0.7071067811865474,0.7071067811865477 L 0.7730104533627367,0.6343932841636459 L 0.8314696123025452,0.5555702330196022 L 0.8819212643483548,0.4713967368259979 L 0.9238795325112865,0.3826834323650904 L 0.9569403357322088,0.2902846772544625 L 0.9807852804032303,0.19509032201612872 L 0.9951847266721969,0.0980171403295605 L 1.0,0.0 L 0.9951847266721969,-0.0980171403295606 z\" /></g></svg>"
      ],
      "text/plain": [
       "<POLYGON ((0.995 -0.098, 0.981 -0.195, 0.957 -0.29, 0.924 -0.383, 0.882 -0.4...>"
      ]
     },
     "execution_count": 6,
     "metadata": {},
     "output_type": "execute_result"
    }
   ],
   "source": [
    "# Intersection implementation\n",
    "\n",
    "x.intersection(y)"
   ]
  },
  {
   "cell_type": "code",
   "execution_count": 27,
   "metadata": {},
   "outputs": [
    {
     "data": {
      "image/svg+xml": [
       "<svg xmlns=\"http://www.w3.org/2000/svg\" xmlns:xlink=\"http://www.w3.org/1999/xlink\" width=\"100.0\" height=\"100.0\" viewBox=\"-1.12 -1.12 3.24 2.24\" preserveAspectRatio=\"xMinYMin meet\"><g transform=\"matrix(1,0,0,-1,0,0.0)\"><path fill-rule=\"evenodd\" fill=\"#66cc99\" stroke=\"#555555\" stroke-width=\"0.06480000000000001\" opacity=\"0.6\" d=\"M 0.4713967368259978,-0.8819212643483549 L 0.38268343236508984,-0.9238795325112867 L 0.29028467725446233,-0.9569403357322089 L 0.19509032201612833,-0.9807852804032304 L 0.09801714032956077,-0.9951847266721968 L 6.123233995736766e-17,-1.0 L -0.09801714032956065,-0.9951847266721969 L -0.1950903220161282,-0.9807852804032304 L -0.29028467725446216,-0.9569403357322089 L -0.3826834323650897,-0.9238795325112867 L -0.4713967368259977,-0.881921264348355 L -0.555570233019602,-0.8314696123025455 L -0.6343932841636454,-0.7730104533627371 L -0.7071067811865475,-0.7071067811865476 L -0.773010453362737,-0.6343932841636455 L -0.8314696123025453,-0.5555702330196022 L -0.8819212643483549,-0.47139673682599786 L -0.9238795325112867,-0.3826834323650899 L -0.9569403357322088,-0.2902846772544624 L -0.9807852804032304,-0.1950903220161286 L -0.9951847266721968,-0.09801714032956083 L -1.0,-1.2246467991473532e-16 L -0.9951847266721969,0.09801714032956059 L -0.9807852804032304,0.19509032201612836 L -0.9569403357322089,0.2902846772544621 L -0.9238795325112868,0.38268343236508967 L -0.881921264348355,0.47139673682599764 L -0.8314696123025455,0.555570233019602 L -0.7730104533627371,0.6343932841636453 L -0.7071067811865477,0.7071067811865475 L -0.6343932841636459,0.7730104533627367 L -0.5555702330196022,0.8314696123025452 L -0.47139673682599786,0.8819212643483549 L -0.38268343236509034,0.9238795325112865 L -0.29028467725446244,0.9569403357322088 L -0.19509032201612866,0.9807852804032303 L -0.09801714032956045,0.9951847266721969 L -1.8369701987210297e-16,1.0 L 0.09801714032956009,0.9951847266721969 L 0.1950903220161283,0.9807852804032304 L 0.29028467725446205,0.9569403357322089 L 0.38268343236509,0.9238795325112866 L 0.4713967368259976,0.881921264348355 L 0.49999999999999994,0.8647771281738245 L 0.5286032631740021,0.8819212643483549 L 0.6173165676349097,0.9238795325112865 L 0.7097153227455375,0.9569403357322088 L 0.8049096779838714,0.9807852804032303 L 0.9019828596704396,0.9951847266721969 L 0.9999999999999998,1.0 L 1.09801714032956,0.9951847266721969 L 1.1950903220161284,0.9807852804032304 L 1.290284677254462,0.9569403357322089 L 1.38268343236509,0.9238795325112866 L 1.4713967368259975,0.881921264348355 L 1.5555702330196017,0.8314696123025455 L 1.6343932841636457,0.7730104533627369 L 1.7071067811865475,0.7071067811865477 L 1.7730104533627367,0.6343932841636459 L 1.8314696123025453,0.5555702330196022 L 1.881921264348355,0.4713967368259979 L 1.9238795325112865,0.3826834323650904 L 1.9569403357322088,0.2902846772544625 L 1.9807852804032304,0.19509032201612872 L 1.995184726672197,0.0980171403295605 L 2.0,0.0 L 1.995184726672197,-0.0980171403295606 L 1.9807852804032304,-0.19509032201612825 L 1.9569403357322088,-0.29028467725446233 L 1.9238795325112867,-0.3826834323650898 L 1.881921264348355,-0.47139673682599764 L 1.8314696123025453,-0.5555702330196022 L 1.7730104533627369,-0.6343932841636455 L 1.7071067811865475,-0.7071067811865475 L 1.6343932841636455,-0.773010453362737 L 1.5555702330196022,-0.8314696123025452 L 1.471396736825998,-0.8819212643483549 L 1.3826834323650898,-0.9238795325112867 L 1.2902846772544623,-0.9569403357322089 L 1.1950903220161284,-0.9807852804032304 L 1.0980171403295609,-0.9951847266721968 L 1.0,-1.0 L 0.9019828596704393,-0.9951847266721969 L 0.8049096779838718,-0.9807852804032304 L 0.7097153227455378,-0.9569403357322089 L 0.6173165676349103,-0.9238795325112867 L 0.5286032631740023,-0.881921264348355 L 0.49999999999999994,-0.8647771281738245 L 0.4713967368259978,-0.8819212643483549 z\" /></g></svg>"
      ],
      "text/plain": [
       "<POLYGON ((0.471 -0.882, 0.383 -0.924, 0.29 -0.957, 0.195 -0.981, 0.098 -0.9...>"
      ]
     },
     "execution_count": 27,
     "metadata": {},
     "output_type": "execute_result"
    }
   ],
   "source": [
    "# Union implementation\n",
    "\n",
    "x.union(y)"
   ]
  },
  {
   "cell_type": "code",
   "execution_count": 7,
   "metadata": {},
   "outputs": [
    {
     "data": {
      "image/svg+xml": [
       "<svg xmlns=\"http://www.w3.org/2000/svg\" xmlns:xlink=\"http://www.w3.org/1999/xlink\" width=\"100.0\" height=\"100.0\" viewBox=\"-1.08 -1.08 1.6600000000000001 2.16\" preserveAspectRatio=\"xMinYMin meet\"><g transform=\"matrix(1,0,0,-1,0,0.0)\"><path fill-rule=\"evenodd\" fill=\"#66cc99\" stroke=\"#555555\" stroke-width=\"0.0432\" opacity=\"0.6\" d=\"M 0.4713967368259978,-0.8819212643483549 L 0.38268343236508984,-0.9238795325112867 L 0.29028467725446233,-0.9569403357322089 L 0.19509032201612833,-0.9807852804032304 L 0.09801714032956077,-0.9951847266721968 L 6.123233995736766e-17,-1.0 L -0.09801714032956065,-0.9951847266721969 L -0.1950903220161282,-0.9807852804032304 L -0.29028467725446216,-0.9569403357322089 L -0.3826834323650897,-0.9238795325112867 L -0.4713967368259977,-0.881921264348355 L -0.555570233019602,-0.8314696123025455 L -0.6343932841636454,-0.7730104533627371 L -0.7071067811865475,-0.7071067811865476 L -0.773010453362737,-0.6343932841636455 L -0.8314696123025453,-0.5555702330196022 L -0.8819212643483549,-0.47139673682599786 L -0.9238795325112867,-0.3826834323650899 L -0.9569403357322088,-0.2902846772544624 L -0.9807852804032304,-0.1950903220161286 L -0.9951847266721968,-0.09801714032956083 L -1.0,-1.2246467991473532e-16 L -0.9951847266721969,0.09801714032956059 L -0.9807852804032304,0.19509032201612836 L -0.9569403357322089,0.2902846772544621 L -0.9238795325112868,0.38268343236508967 L -0.881921264348355,0.47139673682599764 L -0.8314696123025455,0.555570233019602 L -0.7730104533627371,0.6343932841636453 L -0.7071067811865477,0.7071067811865475 L -0.6343932841636459,0.7730104533627367 L -0.5555702330196022,0.8314696123025452 L -0.47139673682599786,0.8819212643483549 L -0.38268343236509034,0.9238795325112865 L -0.29028467725446244,0.9569403357322088 L -0.19509032201612866,0.9807852804032303 L -0.09801714032956045,0.9951847266721969 L -1.8369701987210297e-16,1.0 L 0.09801714032956009,0.9951847266721969 L 0.1950903220161283,0.9807852804032304 L 0.29028467725446205,0.9569403357322089 L 0.38268343236509,0.9238795325112866 L 0.4713967368259976,0.881921264348355 L 0.49999999999999994,0.8647771281738245 L 0.4444297669803978,0.8314696123025452 L 0.36560671583635407,0.7730104533627367 L 0.2928932188134523,0.7071067811865475 L 0.2269895466372629,0.6343932841636453 L 0.16853038769745454,0.555570233019602 L 0.11807873565164495,0.47139673682599764 L 0.07612046748871315,0.38268343236508967 L 0.043059664267791065,0.2902846772544621 L 0.01921471959676957,0.19509032201612836 L 0.004815273327803071,0.09801714032956059 L 0.0,-1.2246467991473532e-16 L 0.004815273327803182,-0.09801714032956083 L 0.01921471959676957,-0.1950903220161286 L 0.043059664267791176,-0.2902846772544624 L 0.07612046748871326,-0.3826834323650899 L 0.11807873565164506,-0.47139673682599786 L 0.16853038769745465,-0.5555702330196022 L 0.226989546637263,-0.6343932841636455 L 0.29289321881345254,-0.7071067811865476 L 0.3656067158363546,-0.7730104533627371 L 0.44442976698039804,-0.8314696123025455 L 0.49999999999999994,-0.8647771281738245 L 0.4713967368259978,-0.8819212643483549 z\" /></g></svg>"
      ],
      "text/plain": [
       "<POLYGON ((0.471 -0.882, 0.383 -0.924, 0.29 -0.957, 0.195 -0.981, 0.098 -0.9...>"
      ]
     },
     "execution_count": 7,
     "metadata": {},
     "output_type": "execute_result"
    }
   ],
   "source": [
    "# Difference implementation\n",
    "\n",
    "x.difference(y)"
   ]
  },
  {
   "cell_type": "code",
   "execution_count": null,
   "metadata": {},
   "outputs": [],
   "source": []
  }
 ],
 "metadata": {
  "anaconda-cloud": {},
  "kernelspec": {
   "display_name": "Python 3 (ipykernel)",
   "language": "python",
   "name": "python3"
  },
  "language_info": {
   "codemirror_mode": {
    "name": "ipython",
    "version": 3
   },
   "file_extension": ".py",
   "mimetype": "text/x-python",
   "name": "python",
   "nbconvert_exporter": "python",
   "pygments_lexer": "ipython3",
   "version": "3.8.10"
  }
 },
 "nbformat": 4,
 "nbformat_minor": 4
}
