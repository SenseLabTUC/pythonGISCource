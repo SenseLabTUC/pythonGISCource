{
 "cells": [
  {
   "cell_type": "markdown",
   "metadata": {},
   "source": [
    "<img src=\"img/tuc_logo.png\">\n",
    "\n",
    "# <center> Πολυτεχνείο Κρήτης </center>\n",
    "\n",
    "## <center> Γεωγραφικά Συστήματα Πληροφοριών </center>\n",
    "\n",
    "### Διδάσκων: Παναγιώτης Παρτσινέβελος\n",
    "### Εργαστήριο:  Γιώργος Πετράκης - Νίκος Σπανουδάκης\n",
    "\n",
    "\n",
    "# Python & GIS\n",
    "\n",
    "Τι θα διδαχθείτε στο εργαστήριο Python & GIS:\n",
    " \n",
    " * Γιατί να μάθω Python ;\n",
    " * Οδηγίες φόρτωσης προγραμματιστικού περιβάλλοντος\n",
    " * Συνοπτική εισαγωγή στη Python\n",
    " * GIS Python Βιβλιοθήκες\n",
    " * Επεξεργασία γεωχωρικών δεδομένων με Python \n",
    "\n",
    "\n",
    "\n",
    "\n",
    "\n",
    "### Περιγραφή εργαστηρίου Python & GIS\n",
    "\n",
    "Το εργαστήριο αυτό δημιουργήθηκε για να σας εισάγει στη γλώσσα Python με προσανατολισμό τις GIS εφαρμογές, τα χωρικά προβλήματα και τις γεω-επιστήμες γενικότερα.\n",
    "\n",
    "### Γιατί να μάθω Python ;\n",
    "\n",
    "<img src=\"img/python_logo2.jpg\">\n",
    "\n",
    "* Είναι η πιο δημοφιλής γλώσσα προγραμματισμού στις μέρες μας\n",
    "* Είναι εύκολη στην εκμάθηση της\n",
    "* Είναι ανοιχτού κώδικα\n",
    "* Έχει μεγάλη και ενεργή κοινότητα\n",
    "* Υπάρχει μεγάλη πληθώρα βιβλιοθηκών και τεχνολογιών βασισμένες στην Python\n",
    "* Καλύπτει μεγάλο εύρος εφαρμογών\n",
    "* Χρησιμοποιείται ιδιαίτερα στις γεω-επιστήμες\n",
    "* Αποτελεί ιδανική εναλλακτική για εφαρμογή στον επιστημονικό προγραμματισμό"
   ]
  },
  {
   "cell_type": "markdown",
   "metadata": {},
   "source": [
    "# Οδηγίες φόρτωσης προγραμματιστικού περιβάλλοντος\n",
    "\n",
    "Για να πειραματιστείτε με την ύλη που θα διδαχθείτε στο εργαστήριο της Python & GIS, θα πρέπει να φορτώσετε ένα Python περιβάλλον στο οποίο θα εγκατασταθούν όλα όσα θα χρησιμοποιήσετε. Η κύρια πλατφόρμα που θα χρησιμοποιήσετε για το εργαστήριο αυτό είναι το Jupyter notebook (https://jupyter.org/), μία πλατφόρμα προγραμματισμού που προσφέρει πολλές δυνατότητες στους προγραμματιστές. Για να ενεργοποιηθεί το περιβάλλον αυτό, ακολουθήστε τις παρακάτω οδηγίες:\n",
    "\n",
    "### Cloud setup\n",
    "Ανοίξτε έναν browser (οποιονδήποτε εκτός από τον Internet Explorer) και εισάγετε την παρακάτω διεύθυνση:\n",
    "https://mybinder.org/v2/gh/SenseLabTUC/pythonGISCourse/master\n",
    "\n",
    "Στη συνέχεια περιμένετε μερικά λεπτά όσο θα φορτώνετε το περιβάλλον. Όταν τελειώσει θα σας εισάγει αυτόματα στο περιβάλλον του μαθήματος.\n",
    "\n",
    "# Προσοχή !\n",
    "Ο χώρος αυτός είναι ένας προσωρινός χώρος που δημιουργείτε για κάθε χρήστη στο cloud. Πριν βγείτε από το περιβάλλον αυτό (ή κλείσετε το browser που δουλεύετε) πρέπει να κατεβάσετε το αρχείο αυτό επιλέγοντας από το menu:\n",
    "File --> Download as --> Notebook (.ipynb). Διαφορετικά ότι έχετε κάνει θα χαθεί ! <br>\n",
    "Όταν θέλετε να συνεχίσετε την εργασία θα εισάγετε ξανά το παραπάνω link και θα ανεβάσετε επιλέγοντας το πλήκτρο \"upload\", το αρχείο .ipynb που κατεβάσατε στο προηγούμενο βήμα."
   ]
  },
  {
   "cell_type": "markdown",
   "metadata": {},
   "source": [
    "## Ένα ποίημα για αρχή..."
   ]
  },
  {
   "cell_type": "code",
   "execution_count": null,
   "metadata": {},
   "outputs": [],
   "source": [
    "import this"
   ]
  },
  {
   "cell_type": "markdown",
   "metadata": {},
   "source": [
    "# Τα βασικά της Python\n",
    "\n",
    "### Αριθμητικές πράξεις, Μεταβλητές και Συναρτήσεις\n",
    "\n",
    "Η Python, μπορεί να χρησιμοποιηθεί σαν απλή αριθμητική μηχανή (calculator):"
   ]
  },
  {
   "cell_type": "code",
   "execution_count": null,
   "metadata": {
    "collapsed": false,
    "jupyter": {
     "outputs_hidden": false
    }
   },
   "outputs": [],
   "source": [
    "1 + 1"
   ]
  },
  {
   "cell_type": "code",
   "execution_count": null,
   "metadata": {
    "collapsed": false,
    "jupyter": {
     "outputs_hidden": false
    }
   },
   "outputs": [],
   "source": [
    "4 * 5"
   ]
  },
  {
   "cell_type": "markdown",
   "metadata": {},
   "source": [
    "### Συναρτήσεις\n",
    "\n",
    "Για πιο προχωρημένες μαθηματικές πράξεις μπορείτε να χρησιμοποιήσετε συναρτήσεις (functions). Οι συναρτήσεις είναι τμήματα κώδικα που εκτελούν μια συγκεκριμένη ενέργεια (πχ εμφάνιση του output στην οθόνη). \n",
    "Για τη χρήση των ενσωματωμένων μαθηματικών συναρτήσεων πρέπει να εισάγεται στην αρχή του προγράμματος την βιβλιοθήκη \"math\" με την εντολή \"import\"."
   ]
  },
  {
   "cell_type": "code",
   "execution_count": null,
   "metadata": {
    "collapsed": false,
    "jupyter": {
     "outputs_hidden": false
    },
    "tags": [
     "raises-exception"
    ]
   },
   "outputs": [],
   "source": [
    "import math\n",
    "\n",
    "math.sin(3)"
   ]
  },
  {
   "cell_type": "code",
   "execution_count": null,
   "metadata": {
    "collapsed": false,
    "jupyter": {
     "outputs_hidden": false
    },
    "tags": [
     "raises-exception"
    ]
   },
   "outputs": [],
   "source": [
    "math.sqrt(4)"
   ]
  },
  {
   "cell_type": "code",
   "execution_count": null,
   "metadata": {},
   "outputs": [],
   "source": [
    "math.pi"
   ]
  },
  {
   "cell_type": "markdown",
   "metadata": {},
   "source": [
    "### Η συνάρτηση print()\n",
    "\n",
    "Για να εμφανίσετε αποτελέσματα του προγράμματος σας στην οθόνη χρησιμοποιείστε την συνάρτηση print()."
   ]
  },
  {
   "cell_type": "code",
   "execution_count": null,
   "metadata": {
    "collapsed": false,
    "jupyter": {
     "outputs_hidden": false
    }
   },
   "outputs": [],
   "source": [
    "print(My name is George)"
   ]
  },
  {
   "cell_type": "code",
   "execution_count": null,
   "metadata": {
    "collapsed": false,
    "jupyter": {
     "outputs_hidden": false
    }
   },
   "outputs": [],
   "source": [
    "print('The square root of 7 is', math.sqrt(7))"
   ]
  },
  {
   "cell_type": "markdown",
   "metadata": {},
   "source": [
    "### Μεταβλητές\n",
    "\n",
    "Οι μεταβλητή (variable), είναι ένα συμβολικό όνομα μιας περιοχής της μνήμης στην οποία μπορούμε να αποθηκεύσουμε και να ανακτήσουμε δεδομένα μέσω του συμβολικού αυτού ονόματος.\n"
   ]
  },
  {
   "cell_type": "code",
   "execution_count": null,
   "metadata": {
    "collapsed": false,
    "jupyter": {
     "outputs_hidden": false
    }
   },
   "outputs": [],
   "source": [
    "elevation = 10\n",
    "print(elevation)"
   ]
  },
  {
   "cell_type": "markdown",
   "metadata": {},
   "source": [
    "### Tύποι δεδομένων\n",
    "\n",
    "| Data type name | Data type            | Example    |\n",
    "| -------------- | -------------------- | ---------- |\n",
    "| `int`          | Whole integer values | `4`        |\n",
    "| `float`        | Decimal values       | `3.1415`   |\n",
    "| `str`          | Character strings    | `'Hot'`    |\n",
    "| `bool`         | True/false values    | `True`     |\n",
    "\n",
    "Ο τύπος δεδομένων μπορεί να βρεθεί χρησιμοποιώντας τη συνάρτηση `type()`"
   ]
  },
  {
   "cell_type": "code",
   "execution_count": null,
   "metadata": {
    "collapsed": false,
    "jupyter": {
     "outputs_hidden": false
    }
   },
   "outputs": [],
   "source": [
    "x = True\n",
    "type(x)"
   ]
  },
  {
   "cell_type": "markdown",
   "metadata": {},
   "source": [
    "### Είσοδος χρήστη\n",
    "\n",
    "Με την συνάρτηση `input()`, είναι δυνατή η είσοδος του χρήστη:"
   ]
  },
  {
   "cell_type": "code",
   "execution_count": null,
   "metadata": {
    "collapsed": false,
    "jupyter": {
     "outputs_hidden": false
    },
    "tags": [
     "raises-exception"
    ]
   },
   "outputs": [],
   "source": [
    "name = input('What is your name ? ')\n",
    "print('Nice to meet you', name)"
   ]
  },
  {
   "cell_type": "markdown",
   "metadata": {},
   "source": [
    "### Συλλογές Δεδομένων\n",
    "\n",
    "* List\n",
    "* Tuple\n",
    "* Set \n",
    "* Dictionary"
   ]
  },
  {
   "cell_type": "code",
   "execution_count": null,
   "metadata": {},
   "outputs": [],
   "source": [
    "# A list\n",
    "fruits = [\"apple\", \"banana\", \"orange\", \"watermelon\"]\n",
    "\n",
    "print(fruits)\n",
    "\n",
    "# Access items\n",
    "print(fruits[2])\n",
    "print(fruits[-1])\n",
    "\n",
    "# Range of indexes\n",
    "print(fruits[1:3])\n",
    "print(fruits[1:])\n",
    "print(fruits[:4])\n",
    "\n",
    "fruits[1] = 'cherry'\n",
    "print(fruits)\n",
    "\n",
    "fruits.append('pear')\n",
    "print(fruits)"
   ]
  },
  {
   "cell_type": "code",
   "execution_count": null,
   "metadata": {},
   "outputs": [],
   "source": [
    "# Find the max value in a list\n",
    "VW_polo = 22000\n",
    "Fiat_panda = 15000\n",
    "Toyota_yaris = 20000\n",
    "\n",
    "car_prices = [VW_polo, Fiat_panda, Toyota_yaris]\n",
    "print(max(car_prices))"
   ]
  },
  {
   "cell_type": "code",
   "execution_count": null,
   "metadata": {},
   "outputs": [],
   "source": [
    "# A tuple\n",
    "\n",
    "fruits = (\"apple\", \"banana\", \"orange\", \"watermelon\")\n",
    "print(fruits)\n",
    "\n",
    "# Access items\n",
    "print(fruits[2])\n",
    "print(fruits[-1])\n",
    "\n",
    "# Range of indexes\n",
    "print(fruits[1:3])\n",
    "print(fruits[1:])\n",
    "print(fruits[:4])\n",
    "\n",
    "# The following is not supported by tuples\n",
    "fruits[1] = 'cherry'\n",
    "print(fruits)"
   ]
  },
  {
   "cell_type": "code",
   "execution_count": null,
   "metadata": {},
   "outputs": [],
   "source": [
    "# A dictionary\n",
    "car =\t{\n",
    "  \"brand\": \"Toyota\",\n",
    "  \"model\": \"yaris\",\n",
    "  \"year\": 2020\n",
    "}\n",
    "print(car)\n",
    "x = car[\"model\"]\n",
    "print(x)"
   ]
  },
  {
   "cell_type": "code",
   "execution_count": null,
   "metadata": {},
   "outputs": [],
   "source": [
    "# Get the max value from a dictionary\n",
    "car_price = {\n",
    "            \"Fiat Panda\": 15000,\n",
    "            \"Toyota Yaris\": 20000,\n",
    "            \"VW Polo\": 22000\n",
    "            }\n",
    "\n",
    "print(max(car_price, key=car_price.get))"
   ]
  },
  {
   "cell_type": "markdown",
   "metadata": {},
   "source": [
    "### if / if-else statement"
   ]
  },
  {
   "cell_type": "code",
   "execution_count": null,
   "metadata": {},
   "outputs": [],
   "source": [
    "x = 20\n",
    "y = 40\n",
    "if x > y:\n",
    "    print(\"x is greater than y\")\n",
    "elif x < y:\n",
    "    print(\"y is greater than x\")\n",
    "else:\n",
    "    print(\"x is equal with y\")"
   ]
  },
  {
   "cell_type": "markdown",
   "metadata": {},
   "source": [
    "### While loops"
   ]
  },
  {
   "cell_type": "code",
   "execution_count": null,
   "metadata": {},
   "outputs": [],
   "source": [
    "i = 1\n",
    "while i < 10:\n",
    "    print(i)\n",
    "    if i == 4:\n",
    "        break\n",
    "    i = i + 1 "
   ]
  },
  {
   "cell_type": "markdown",
   "metadata": {},
   "source": [
    "### For loops"
   ]
  },
  {
   "cell_type": "code",
   "execution_count": null,
   "metadata": {},
   "outputs": [],
   "source": [
    "fruits = ['apple', 'banana', 'orange', 'watermelon']\n",
    "for x in fruits:\n",
    "    print(x)"
   ]
  },
  {
   "cell_type": "code",
   "execution_count": null,
   "metadata": {},
   "outputs": [],
   "source": [
    "# Show me the car that its price is less than 20000\n",
    "car_price = {\n",
    "            \"Fiat Panda\": 15000,\n",
    "            \"Toyota Yaris\": 20000,\n",
    "            \"VW Polo\": 22000\n",
    "            }\n",
    "\n",
    "for key, value in car_price.items():\n",
    "    if value < 20000:\n",
    "        print(key, value)\n"
   ]
  },
  {
   "cell_type": "markdown",
   "metadata": {},
   "source": [
    "### Συναρτήσεις"
   ]
  },
  {
   "cell_type": "code",
   "execution_count": null,
   "metadata": {},
   "outputs": [],
   "source": [
    "def eq(a, x, b):\n",
    "    y = a*x + b\n",
    "    return y\n",
    "\n",
    "solution = eq(3, 8, 2)\n",
    "print(solution)"
   ]
  },
  {
   "cell_type": "markdown",
   "metadata": {},
   "source": [
    "### Κλάσεις - Αντικείμενα"
   ]
  },
  {
   "cell_type": "code",
   "execution_count": null,
   "metadata": {},
   "outputs": [],
   "source": [
    "# Class definition\n",
    "class Dog():\n",
    "    def __init__(self, name, color, age):\n",
    "        self.name = name\n",
    "        self.color = color\n",
    "        self.age = age\n",
    "\n",
    "    def speak(self):\n",
    "        print(\"Hello my name is \" + self.name + \", I have \" \n",
    "              + self.color + \" color and I'm \" + str(self.age) + \" years old\")\n",
    "\n",
    "# Object definition\n",
    "d1 = Dog(\"Jack\", \"black\", 4)\n",
    "print(\"My dog is \" + str(d1.age) + \" years old\")\n",
    "\n",
    "d1.speak()\n",
    "\n",
    "d2 = Dog(\"Lucy\", \"white\", 2)\n",
    "print(\"Lucy has \" + d2.color + \" color\")\n",
    "\n",
    "d2.speak()\n"
   ]
  },
  {
   "cell_type": "markdown",
   "metadata": {},
   "source": [
    "# GIS Python βιβλιοθήκες\n",
    "\n",
    "### Data analysis & visualization:\n",
    "\n",
    "* Numpy –> Fundamental package for scientific computing with Python\n",
    "* Pandas –> High-performance, easy-to-use data structures and data analysis tools\n",
    "* Scipy –> A collection of numerical algorithms and domain-specific toolboxes, including signal processing, * optimization and statistics\n",
    "* Matplotlib –> Basic plotting library for Python\n",
    "        \n",
    "### GIS:\n",
    "\n",
    "* GDAL / OGR –> Fundamental package for processing vector and raster data formats (many modules below depend on this). Used for raster processing.\n",
    "* Geopandas –> Working with geospatial data in Python made easier, combines the capabilities of pandas and shapely.\n",
    "* Shapely –> Python package for manipulation and analysis of planar geometric objects (based on widely deployed GEOS).\n",
    "* Pyproj –> Performs cartographic transformations and geodetic computations (based on PROJ.4).\n",
    "* Rasterio –> Clean and fast and geospatial raster I/O for Python.\n",
    "\n",
    "Στο εργαστήριο αυτό θα χρησιμοποιήσουμε τις βιβλιοθήκες Geopandas, Shapely και Pyproj.\n",
    "* https://geopandas.org/\n",
    "* https://shapely.readthedocs.io/en/stable/manual.html\n",
    "* https://pyproj4.github.io/pyproj/stable/"
   ]
  },
  {
   "cell_type": "markdown",
   "metadata": {},
   "source": [
    "# Βασική γνώση απαραίτητη για τις ασκήσεις\n",
    "\n",
    "### Shapefile:\n",
    "Shapefile ειναι το format που θα χρησιμοποιήσουμε για τα διανυσματικά δεδομένα. Για την σωστή χρήση του αρχείου shapefile, πρέπει να υπάρχουν στον ίδιο φάκελο τα παρακάτω υπο-αρχεία:\n",
    "* .shp\n",
    "* .dbf\n",
    "* .shx\n",
    "* .prj\n",
    "\n",
    "### Κωδικοί EPSG:\n",
    "Οι EPSG κωδικοί αντιπροσωπεύουν συστήματα αναφοράς και χρησιμοποιούνται στα προγράμματα και τα πακέτα λογισμικού GIS για τον ορισμό / μετασχηματισμό / διαχείριση συστημάτων αναφοράς.\n"
   ]
  },
  {
   "cell_type": "markdown",
   "metadata": {},
   "source": [
    "# Γεωμετρικά αντικείμενα\n",
    "\n",
    "* Point\n",
    "* Line\n",
    "* Polygon\n",
    "------------------------\n",
    "* MultiPoint\n",
    "* MultiLineString\n",
    "* MultiPolygon"
   ]
  },
  {
   "cell_type": "markdown",
   "metadata": {},
   "source": [
    "### Point"
   ]
  },
  {
   "cell_type": "code",
   "execution_count": null,
   "metadata": {},
   "outputs": [],
   "source": [
    "from shapely.geometry import Point, LineString, Polygon\n",
    "\n",
    "# Create a point\n",
    "point1 = Point(2.3, 4.2)\n",
    "point2 = Point(7.3, -35.1)\n",
    "point3 = Point(8.26, -3.456)\n",
    "point3D = Point(10.26, -2.456, 43)"
   ]
  },
  {
   "cell_type": "code",
   "execution_count": null,
   "metadata": {},
   "outputs": [],
   "source": [
    "point1"
   ]
  },
  {
   "cell_type": "code",
   "execution_count": null,
   "metadata": {},
   "outputs": [],
   "source": [
    "# Calculate the distance between point1 and point2\n",
    "point_dist = point1.distance(point3)\n",
    "\n",
    "print(\"Distance between the points is {0:.2f} meters\".format(point_dist))"
   ]
  },
  {
   "cell_type": "markdown",
   "metadata": {},
   "source": [
    "### LineString"
   ]
  },
  {
   "cell_type": "code",
   "execution_count": null,
   "metadata": {},
   "outputs": [],
   "source": [
    "# Create a LineString from our Point objects\n",
    "line = LineString([point1, point2, point3])\n",
    "\n",
    "# It is also possible to produce the same outcome using coordinate tuples\n",
    "line2 = LineString([(2.3, 4.2), (7.3, -35.1), (8.26, -3.456)])"
   ]
  },
  {
   "cell_type": "code",
   "execution_count": null,
   "metadata": {},
   "outputs": [],
   "source": [
    "line"
   ]
  },
  {
   "cell_type": "code",
   "execution_count": null,
   "metadata": {},
   "outputs": [],
   "source": [
    "# Get the lenght of the line\n",
    "l_length = line.length\n",
    "\n",
    "# Get the centroid of the line\n",
    "l_centroid = line.centroid\n",
    "\n",
    "# Print the outputs\n",
    "print(\"Length of our line: {0:.2f}\".format(l_length))\n",
    "print(\"Centroid of our line: \", l_centroid)\n",
    "print(\"Type of the centroid:\", type(l_centroid))"
   ]
  },
  {
   "cell_type": "markdown",
   "metadata": {},
   "source": [
    "### Polygon"
   ]
  },
  {
   "cell_type": "code",
   "execution_count": null,
   "metadata": {},
   "outputs": [],
   "source": [
    "# Create a Polygon from the coordinates\n",
    "poly = Polygon([(2.3, 4.2), (7.3, -35.1), (8.26, -3.456)])\n",
    "\n",
    "# It is also possible to produce the same outcome using a list of lists which contain the point coordinates.\n",
    "# We can do this using the point objects we created before and a list comprehension:\n",
    "# --> here, we pass a list of lists as input when creating the Polygon (the list comprehension generates this list: [[2.2, 4.2], [7.2, -25.1], [9.26, -2.456]]):\n",
    "poly2 = Polygon([[p.x, p.y] for p in [point1, point2, point3]])\n"
   ]
  },
  {
   "cell_type": "code",
   "execution_count": null,
   "metadata": {},
   "outputs": [],
   "source": [
    "poly"
   ]
  },
  {
   "cell_type": "code",
   "execution_count": null,
   "metadata": {},
   "outputs": [],
   "source": [
    "print('poly:', poly)\n",
    "print('poly2:', poly2)"
   ]
  },
  {
   "cell_type": "code",
   "execution_count": null,
   "metadata": {},
   "outputs": [],
   "source": [
    "# Get the centroid of the Polygon\n",
    "poly_centroid = poly.centroid\n",
    "\n",
    "# Get the area of the Polygon\n",
    "poly_area = poly.area\n",
    "\n",
    "poly_bbox = poly.bounds\n",
    "\n",
    "# Print the outputs\n",
    "print(\"Poly centroid: \", poly_centroid)\n",
    "print(\"Poly Area: \", poly_area)\n",
    "print(\"Poly Bounding Box: \", poly_bbox)"
   ]
  },
  {
   "cell_type": "markdown",
   "metadata": {},
   "source": [
    "### MultiPoint"
   ]
  },
  {
   "cell_type": "code",
   "execution_count": null,
   "metadata": {},
   "outputs": [],
   "source": [
    "import shapely\n",
    "\n",
    "coords = [(1, 3), (1, 3), (-3, 4), (1, 0)]\n",
    "pnt2 = shapely.geometry.MultiPoint(coords)\n",
    "pnt2"
   ]
  },
  {
   "cell_type": "markdown",
   "metadata": {},
   "source": [
    "### MultiLineString"
   ]
  },
  {
   "cell_type": "code",
   "execution_count": null,
   "metadata": {},
   "outputs": [],
   "source": [
    "l1 = shapely.geometry.LineString([(3, 4), (1, -1), (-3, 5), (4, 2)])\n",
    "l2 = shapely.geometry.LineString([(-3, 4), (1, -3), (3, 1)])\n",
    "line2 = shapely.geometry.MultiLineString([l1, l2])\n",
    "line2\n"
   ]
  },
  {
   "cell_type": "markdown",
   "metadata": {},
   "source": [
    "### MultiPolygon"
   ]
  },
  {
   "cell_type": "code",
   "execution_count": null,
   "metadata": {},
   "outputs": [],
   "source": [
    "poly1 = shapely.geometry.Polygon([(15, 4.2), (7.3, -35.1), (200, -3.456)])\n",
    "poly2 = shapely.geometry.Polygon([(100, 4.2), (200, 300), (3.2, 50)])\n",
    "\n",
    "shapely.geometry.MultiPolygon([poly1, poly2])\n",
    "                                  "
   ]
  },
  {
   "cell_type": "markdown",
   "metadata": {},
   "source": [
    "# Τοπολογικές σχέσεις\n",
    "\n",
    "### Σημείο εντός ή εκτός πολυγώνου\n",
    "Για να ελέγξουμε αν ένα σημείο είναι εντός ή εκτός πολυγώνου μπορούμε να χρησιμοποιήσουμε τις συναρτήσεις της βιβλιοθήκης shapely:\n",
    "* .within()\n",
    "* .contains()"
   ]
  },
  {
   "cell_type": "code",
   "execution_count": null,
   "metadata": {},
   "outputs": [],
   "source": [
    "from shapely.geometry import Point, Polygon\n",
    "\n",
    "# Create Point objects\n",
    "p1 = Point(24.0217, 35.3031)\n",
    "p2 = Point(24.1468, 35.3215)\n",
    "\n",
    "# Create a Polygon object\n",
    "coords = [(23.9308, 35.3094), (24.0591, 353459), (24.1432, 35.2873)]\n",
    "poly = Polygon(coords)\n",
    "\n",
    "print(p1)\n",
    "print(p2)\n",
    "print(poly)"
   ]
  },
  {
   "cell_type": "code",
   "execution_count": null,
   "metadata": {},
   "outputs": [],
   "source": [
    "# Check if p1 is within the polygon using the within function\n",
    "p1.within(poly)"
   ]
  },
  {
   "cell_type": "code",
   "execution_count": null,
   "metadata": {},
   "outputs": [],
   "source": [
    "# Check if p2 is within the polygon\n",
    "p2.within(poly)"
   ]
  },
  {
   "cell_type": "code",
   "execution_count": null,
   "metadata": {},
   "outputs": [],
   "source": [
    "# Does polygon contain p1?\n",
    "poly.contains(p1)"
   ]
  },
  {
   "cell_type": "code",
   "execution_count": null,
   "metadata": {},
   "outputs": [],
   "source": [
    "# Does polygon contain p2?\n",
    "poly.contains(p2)"
   ]
  },
  {
   "cell_type": "markdown",
   "metadata": {},
   "source": [
    "### Τομή\n",
    "Για να ελέγξουμε αν ένα αντικείμενο τέμνεται με κάποιο άλλο χρησιμοποιούμε την συνάρτηση:\n",
    "* intersects()"
   ]
  },
  {
   "cell_type": "code",
   "execution_count": null,
   "metadata": {},
   "outputs": [],
   "source": [
    "from shapely.geometry import LineString, MultiLineString\n",
    "\n",
    "# Create two lines\n",
    "line_a = LineString([(0, 50), (1, 1)])\n",
    "line_b = LineString([(1, 2), (30, 2)])\n",
    "\n",
    "line_a.intersects(line_b)"
   ]
  },
  {
   "cell_type": "markdown",
   "metadata": {},
   "source": [
    "## Χωρικές επεξεργασίες"
   ]
  },
  {
   "cell_type": "markdown",
   "metadata": {},
   "source": [
    "### Δημιουργία νέων γεωμετριών"
   ]
  },
  {
   "cell_type": "markdown",
   "metadata": {},
   "source": [
    "* Buffer: .buffer\n",
    "* Intersection: .intersection\n",
    "* Union: .Union\n",
    "* Difference: .difference"
   ]
  },
  {
   "cell_type": "code",
   "execution_count": null,
   "metadata": {},
   "outputs": [],
   "source": [
    "from shapely import geometry as gm\n",
    "from shapely import Point\n",
    "\n",
    "p1 = Point((0, 0))\n",
    "p2 = Point((1, 0))\n",
    "\n",
    "# Buffer implementation\n",
    "\n",
    "x = p1.buffer(1)\n",
    "y = p2.buffer(1)\n",
    "gm.GeometryCollection([x, y])"
   ]
  },
  {
   "cell_type": "code",
   "execution_count": null,
   "metadata": {},
   "outputs": [],
   "source": [
    "# Intersection implementation\n",
    "\n",
    "x.intersection(y)"
   ]
  },
  {
   "cell_type": "code",
   "execution_count": null,
   "metadata": {},
   "outputs": [],
   "source": [
    "# Union implementation\n",
    "\n",
    "x.union(y)"
   ]
  },
  {
   "cell_type": "code",
   "execution_count": null,
   "metadata": {},
   "outputs": [],
   "source": [
    "# Difference implementation\n",
    "\n",
    "x.difference(y)"
   ]
  },
  {
   "cell_type": "code",
   "execution_count": null,
   "metadata": {},
   "outputs": [],
   "source": []
  }
 ],
 "metadata": {
  "anaconda-cloud": {},
  "kernelspec": {
   "display_name": "Python 3 (ipykernel)",
   "language": "python",
   "name": "python3"
  },
  "language_info": {
   "codemirror_mode": {
    "name": "ipython",
    "version": 3
   },
   "file_extension": ".py",
   "mimetype": "text/x-python",
   "name": "python",
   "nbconvert_exporter": "python",
   "pygments_lexer": "ipython3",
   "version": "3.8.10"
  }
 },
 "nbformat": 4,
 "nbformat_minor": 4
}
