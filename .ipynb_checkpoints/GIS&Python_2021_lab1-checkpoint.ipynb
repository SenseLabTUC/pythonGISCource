{
 "cells": [
  {
   "cell_type": "markdown",
   "metadata": {},
   "source": [
    "<img src=\"img/tuc_logo.png\">\n",
    "\n",
    "# <center> Πολυτεχνείο Κρήτης </center>\n",
    "\n",
    "## <center> Γεωγραφικά Συστήματα Πληροφοριών </center>\n",
    "\n",
    "### Διδάσκων: Παναγιώτης Παρτσινέβελος, Αν. Καθηγητής\n",
    "### Εργαστήριο: Γεώργιος Πετράκης, Υπ. Διδάκτωρ\n",
    "\n",
    "\n",
    "# Python & GIS\n",
    "\n",
    "Τι θα διδαχθείτε στο εργαστήριο Python & GIS:\n",
    " \n",
    " * Γιατί να μάθω Python ;\n",
    " * Οδηγίες φόρτωσης προγραμματιστικού περιβάλλοντος\n",
    " * Συνοπτική εισαγωγή στη Python\n",
    " * GIS Python Βιβλιοθήκες\n",
    " * Επεξεργασία γεωχωρικών δεδομένων με Python \n",
    "\n",
    "\n",
    "\n",
    "\n",
    "\n",
    "### Περιγραφή εργαστηρίου Python & GIS\n",
    "\n",
    "Το εργαστήριο αυτό δημιουργήθηκε για να σας εισάγει στη γλώσσα Python με προσανατολισμό τις GIS εφαρμογές, τα χωρικά προβλήματα και τις γεω-επιστήμες γενικότερα.\n",
    "\n",
    "### Γιατί να μάθω Python ;\n",
    "\n",
    "<img src=\"img/python_logo2.jpg\">\n",
    "\n",
    "* Είναι η πιο δημοφιλής γλώσσα προγραμματισμού στις μέρες μας\n",
    "* Είναι εύκολη στην εκμάθηση της\n",
    "* Είναι ανοιχτού κώδικα\n",
    "* Έχει μεγάλη και ενεργή κοινότητα\n",
    "* Υπάρχει μεγάλη πληθώρα βιβλιοθηκών και τεχνολογιών βασισμένες στην Python\n",
    "* Καλύπτει μεγάλο εύρος εφαρμογών\n",
    "* Χρησιμοποιείται ιδιαίτερα στις γεω-επιστήμες\n",
    "* Αποτελεί ιδανική εναλλακτική για εφαρμογή στον επιστημονικό προγραμματισμό"
   ]
  },
  {
   "cell_type": "markdown",
   "metadata": {},
   "source": [
    "# Οδηγίες φόρτωσης προγραμματιστικού περιβάλλοντος\n",
    "\n",
    "Για να πειραματιστείτε με την ύλη που θα διδαχθείτε στο εργαστήριο της Python & GIS, θα πρέπει να φορτώσετε ένα Python περιβάλλον στο οποίο θα εγκατασταθούν όλα όσα θα χρησιμοποιήσετε. Η κύρια πλατφόρμα που θα χρησιμοποιήσετε για το εργαστήριο αυτό είναι το Jupyter notebook (https://jupyter.org/), μία πλατφόρμα προγραμματισμού που προσφέρει πολλές δυνατότητες στους προγραμματιστές. Για να ενεργοποιηθεί το περιβάλλον αυτό, υπάρχουν δύο τρόποι που μπορείτε να ακολουθήσετε:\n",
    "### 1ος τρόπος: Cloud setup\n",
    "Ανοίξτε έναν browser (οποιονδήποτε εκτός από τον Internet Explorer) και εισάγετε την παρακάτω διεύθυνση:\n",
    "https://mybinder.org/v2/gh/SenseLabTUC/pythonGISCourse/master\n",
    "\n",
    "Στη συνέχεια περιμένετε μερικά λεπτά όσο θα φορτώνετε το περιβάλλον. Όταν τελειώσει θα σας εισάγει αυτόματα στο περιβάλλον του μαθήματος.\n",
    "\n",
    "# Προσοχή !\n",
    "Ο χώρος αυτός είναι ένας προσωρινός χώρος που δημιουργείτε για κάθε χρήστη στο cloud. Πριν βγείτε από το περιβάλλον αυτό (ή κλείσετε το browser που δουλεύετε) πρέπει να κατεβάσετε το αρχείο αυτό επιλέγοντας από το menu:\n",
    "File --> Download as --> Notebook (.ipynb). Διαφορετικά ότι έχετε κάνει θα χαθεί ! <br>\n",
    "Όταν θέλετε να συνεχίσετε την εργασία θα εισάγετε ξανά το παραπάνω link και θα ανεβάσετε επιλέγοντας το πλήκτρο \"upload\", το αρχείο .ipynb που κατεβάσατε στο προηγούμενο βήμα.\n",
    "\n",
    "### 2oς τρόπος: Local setup\n",
    "Στο local setup θα χρειαστεί να ακολουθήσετε κάποια βήματα στον εικονικό υπολογιστή του μηχανογραφικού με το λειτουργικό Ubuntu linux. Ο τρόπος αυτός είναι πιο χρονοβόρος από τον 1ο, αλλά θα σας βοηθήσει να εξεικοιωθείτε με το Ubuntu περιβάλλον στο οποίο θα γίνουν τα επόμενα εργαστήρια για το QGIS. Για να φορτωθεί το περιβάλλον τοπικά στον εικονικό σας υπολογιστή, ανοίξτε το terminal πληκτρολογώντας Ctrl - Alt - t και εισάγετε τις παρακάτω εντολές:\n",
    "1. git clone https://github.com/SenseLabTUC/pythonGISCourse\n",
    "2. cd pythonGISCourse\n",
    "3. sh pyenvSetup1.sh\n",
    "4. conda init bash\n",
    "5. source ~/.bashrc\n",
    "6. conda activate pythonGIS\n",
    "7. sh pyenvSetup2.sh\n",
    "\n",
    "# Προσοχή !\n",
    "Η παραπάνω διαδικασία θα χρειαστεί να επαναλαμβάνετε ΚΑΘΕ φορά που μπαίνετε στον εικονικό σας υπολογιστή (Ubuntu) καθώς λόγω της πολιτικής του Μηχανογραφικού κέντρου οτιδήποτε εγκαθιστάτε, σβήνετε μετά το logout. <br>\\\n",
    "Επισημαίνεται επίσης ότι όλα τα αρχεία που θέλετε να παραμείνουν στον υπολογιστή σας μετά το logout, πρέπει να βρίσκονται στο φάκελο Documents. Διαφορετικά θα χαθούν !\n"
   ]
  },
  {
   "cell_type": "code",
   "execution_count": null,
   "metadata": {},
   "outputs": [],
   "source": [
    "import this"
   ]
  },
  {
   "cell_type": "markdown",
   "metadata": {},
   "source": [
    "# Τα βασικά της Python\n",
    "\n",
    "### Αριθμητικές πράξεις, Μεταβλητές και Συναρτήσεις\n",
    "\n",
    "Η Python, μπορεί να χρησιμοποιηθεί σαν απλή αριθμητική μηχανή (calculator):"
   ]
  },
  {
   "cell_type": "code",
   "execution_count": null,
   "metadata": {
    "jupyter": {
     "outputs_hidden": false
    }
   },
   "outputs": [],
   "source": [
    "1 + 1"
   ]
  },
  {
   "cell_type": "code",
   "execution_count": null,
   "metadata": {
    "jupyter": {
     "outputs_hidden": false
    }
   },
   "outputs": [],
   "source": [
    "4 * 4"
   ]
  },
  {
   "cell_type": "markdown",
   "metadata": {},
   "source": [
    "### Συναρτήσεις\n",
    "\n",
    "Για πιο προχωρημένες μαθηματικές πράξεις μπορείτε να χρησιμοποιήσετε συναρτήσεις (functions). Οι συναρτήσεις είναι τμήματα κώδικα που εκτελούν μια συγκεκριμένη ενέργεια (πχ εμφάνιση του output στην οθόνη). \n",
    "Για τη χρήση των ενσωματωμένων μαθηματικών συναρτήσεων πρέπει να εισάγεται στην αρχή του προγράμματος την βιβλιοθήκη \"math\" με την εντολή \"import\"."
   ]
  },
  {
   "cell_type": "code",
   "execution_count": null,
   "metadata": {
    "jupyter": {
     "outputs_hidden": false
    },
    "tags": [
     "raises-exception"
    ]
   },
   "outputs": [],
   "source": [
    "import math\n",
    "\n",
    "math.sin(3)"
   ]
  },
  {
   "cell_type": "code",
   "execution_count": null,
   "metadata": {
    "jupyter": {
     "outputs_hidden": false
    },
    "tags": [
     "raises-exception"
    ]
   },
   "outputs": [],
   "source": [
    "math.sqrt(4)"
   ]
  },
  {
   "cell_type": "code",
   "execution_count": null,
   "metadata": {},
   "outputs": [],
   "source": [
    "math.pi"
   ]
  },
  {
   "cell_type": "markdown",
   "metadata": {},
   "source": [
    "### Η συνάρτηση print()\n",
    "\n",
    "Για να εμφανίσετε αποτελέσματα του προγράμματος σας στην οθόνη χρησιμοποιείστε την συνάρτηση print()."
   ]
  },
  {
   "cell_type": "code",
   "execution_count": null,
   "metadata": {
    "jupyter": {
     "outputs_hidden": false
    }
   },
   "outputs": [],
   "source": [
    "print(\"My name is George\")"
   ]
  },
  {
   "cell_type": "code",
   "execution_count": null,
   "metadata": {
    "jupyter": {
     "outputs_hidden": false
    }
   },
   "outputs": [],
   "source": [
    "print('The square root of 5 is', math.sqrt(5))"
   ]
  },
  {
   "cell_type": "markdown",
   "metadata": {},
   "source": [
    "### Μεταβλητές\n",
    "\n",
    "Οι μεταβλητή (variable), είναι ένα συμβολικό όνομα μιας περιοχής της μνήμης στην οποία μπορούμε να αποθηκεύσουμε και να ανακτήσουμε δεδομένα μέσω του συμβολικού αυτού ονόματος.\n"
   ]
  },
  {
   "cell_type": "code",
   "execution_count": null,
   "metadata": {
    "jupyter": {
     "outputs_hidden": false
    }
   },
   "outputs": [],
   "source": [
    "elevation = 10\n",
    "print(elevation)"
   ]
  },
  {
   "cell_type": "markdown",
   "metadata": {},
   "source": [
    "### Tύποι δεδομένων\n",
    "\n",
    "| Data type name | Data type            | Example    |\n",
    "| -------------- | -------------------- | ---------- |\n",
    "| `int`          | Whole integer values | `4`        |\n",
    "| `float`        | Decimal values       | `3.1415`   |\n",
    "| `str`          | Character strings    | `'Hot'`    |\n",
    "| `bool`         | True/false values    | `True`     |\n",
    "\n",
    "Ο τύπος δεδομένων μπορεί να βρεθεί χρησιμοποιώντας τη συνάρτηση `type()`"
   ]
  },
  {
   "cell_type": "code",
   "execution_count": null,
   "metadata": {
    "jupyter": {
     "outputs_hidden": false
    }
   },
   "outputs": [],
   "source": [
    "x = 5.2\n",
    "type(x)"
   ]
  },
  {
   "cell_type": "markdown",
   "metadata": {},
   "source": [
    "### Είσοδος χρήστη\n",
    "\n",
    "Με την συνάρτηση `input()`, είναι δυνατή η είσοδος του χρήστη:"
   ]
  },
  {
   "cell_type": "code",
   "execution_count": null,
   "metadata": {
    "jupyter": {
     "outputs_hidden": false
    },
    "tags": [
     "raises-exception"
    ]
   },
   "outputs": [],
   "source": [
    "name = input('What is your name ? ')\n",
    "print('Nice to meet you', name)"
   ]
  },
  {
   "cell_type": "markdown",
   "metadata": {},
   "source": [
    "### Συλλογές Δεδομένων\n",
    "\n",
    "* List\n",
    "* Tuple\n",
    "* Set \n",
    "* Dictionary"
   ]
  },
  {
   "cell_type": "code",
   "execution_count": null,
   "metadata": {},
   "outputs": [],
   "source": [
    "# A list\n",
    "fruits = [\"apple\", \"banana\", \"orange\", \"watermelon\"]\n",
    "\n",
    "print(fruits)\n",
    "\n",
    "# Access items\n",
    "print(fruits[2])\n",
    "print(fruits[-1])\n",
    "\n",
    "# Range of indexes\n",
    "print(fruits[1:3])\n",
    "print(fruits[1:])\n",
    "print(fruits[:4])\n",
    "\n",
    "fruits[1] = 'cherry'\n",
    "print(fruits)\n",
    "\n",
    "fruits.append('pear')\n",
    "print(fruits)"
   ]
  },
  {
   "cell_type": "code",
   "execution_count": null,
   "metadata": {},
   "outputs": [],
   "source": [
    "# A tuple\n",
    "\n",
    "fruits = (\"apple\", \"banana\", \"orange\", \"watermelon\")\n",
    "print(fruits)\n",
    "\n",
    "# Access items\n",
    "print(fruits[2])\n",
    "print(fruits[-1])\n",
    "\n",
    "# Range of indexes\n",
    "print(fruits[1:3])\n",
    "print(fruits[1:])\n",
    "print(fruits[:4])\n",
    "\n",
    "# The following is supported by tuples\n",
    "fruits[1] = 'cherry'\n",
    "print(fruits)"
   ]
  },
  {
   "cell_type": "code",
   "execution_count": null,
   "metadata": {},
   "outputs": [],
   "source": [
    "# A set\n",
    "fruits = {\"apple\", \"banana\", \"orange\", \"watermelon\", \"watermelon\"}\n",
    "fruits2 = [\"apple\", \"banana\", \"orange\", \"watermelon\", \"watermelon\"]\n",
    "\n",
    "for i in fruits:\n",
    "    print(i)\n",
    "    \n",
    "print(len(fruits))\n",
    "print(len(fruits2))"
   ]
  },
  {
   "cell_type": "code",
   "execution_count": null,
   "metadata": {},
   "outputs": [],
   "source": [
    "# A dictionary\n",
    "car =\t{\n",
    "  \"brand\": \"Toyota\",\n",
    "  \"model\": \"yaris\",\n",
    "  \"year\": 2020\n",
    "}\n",
    "print(car)\n",
    "x = car[\"model\"]\n",
    "print(x)"
   ]
  },
  {
   "cell_type": "markdown",
   "metadata": {},
   "source": [
    "### if / if-else statement"
   ]
  },
  {
   "cell_type": "code",
   "execution_count": null,
   "metadata": {},
   "outputs": [],
   "source": [
    "x = 20\n",
    "y = 40\n",
    "if x > y:\n",
    "    print(\"x is greater than y\")\n",
    "elif x < y:\n",
    "    print(\"y is greater than x\")\n",
    "else:\n",
    "    print(\"x is equal with y\")"
   ]
  },
  {
   "cell_type": "markdown",
   "metadata": {},
   "source": [
    "### While loops"
   ]
  },
  {
   "cell_type": "code",
   "execution_count": null,
   "metadata": {},
   "outputs": [],
   "source": [
    "i = 1\n",
    "while i < 10:\n",
    "    print(i)\n",
    "    if i == 4:\n",
    "        break\n",
    "    i += 1 "
   ]
  },
  {
   "cell_type": "markdown",
   "metadata": {},
   "source": [
    "### For loops"
   ]
  },
  {
   "cell_type": "code",
   "execution_count": null,
   "metadata": {},
   "outputs": [],
   "source": [
    "fruits = ['apple', 'banana', 'orange', 'watermelon']\n",
    "for x in fruits:\n",
    "    print(x)"
   ]
  },
  {
   "cell_type": "markdown",
   "metadata": {},
   "source": [
    "### Συναρτήσεις"
   ]
  },
  {
   "cell_type": "code",
   "execution_count": null,
   "metadata": {},
   "outputs": [],
   "source": [
    "def eq(a, x, b):\n",
    "    y = a*x + b\n",
    "    return y\n",
    "\n",
    "solution = eq(3, 4, 2)\n",
    "print(solution)"
   ]
  },
  {
   "cell_type": "markdown",
   "metadata": {},
   "source": [
    "### Κλάσεις - Αντικείμενα"
   ]
  },
  {
   "cell_type": "code",
   "execution_count": null,
   "metadata": {},
   "outputs": [],
   "source": [
    "# Class definition\n",
    "class Dog():\n",
    "    def __init__(self, name, color, age):\n",
    "        self.name = name\n",
    "        self.color = color\n",
    "        self.age = age\n",
    "\n",
    "    def speak(self):\n",
    "        print(\"Hello my name is \" + self.name + \", I have \" \n",
    "              + self.color + \" color and I'm \" + str(self.age) + \" years old\")\n",
    "\n",
    "# Object definition\n",
    "d1 = Dog(\"Jack\", \"black\", 4)\n",
    "print(\"My dog is \" + str(d1.age) + \" years old\")\n",
    "\n",
    "d1.speak()\n",
    "\n",
    "d2 = Dog(\"Lucy\", \"white\", 2)\n",
    "print(\"It has \" + d2.color + \"color\")\n",
    "\n",
    "d2.speak()\n"
   ]
  },
  {
   "cell_type": "markdown",
   "metadata": {},
   "source": [
    "# GIS Python βιβλιοθήκες\n",
    "\n",
    "### Data analysis & visualization:\n",
    "\n",
    "* Numpy –> Fundamental package for scientific computing with Python\n",
    "* Pandas –> High-performance, easy-to-use data structures and data analysis tools\n",
    "* Scipy –> A collection of numerical algorithms and domain-specific toolboxes, including signal processing, * optimization and statistics\n",
    "* Matplotlib –> Basic plotting library for Python\n",
    "        \n",
    "### GIS:\n",
    "\n",
    "* GDAL / OGR –> Fundamental package for processing vector and raster data formats (many modules below depend on this). Used for raster processing.\n",
    "* Geopandas –> Working with geospatial data in Python made easier, combines the capabilities of pandas and shapely.\n",
    "* Shapely –> Python package for manipulation and analysis of planar geometric objects (based on widely deployed GEOS).\n",
    "* Pyproj –> Performs cartographic transformations and geodetic computations (based on PROJ.4).\n",
    "* Rasterio –> Clean and fast and geospatial raster I/O for Python.\n",
    "\n",
    "Στο εργαστήριο αυτό θα χρησιμοποιήσουμε τις βιβλιοθήκες Geopandas, Shapely και Pyproj.\n",
    "* https://geopandas.org/\n",
    "* https://shapely.readthedocs.io/en/stable/manual.html\n",
    "* https://pyproj4.github.io/pyproj/stable/"
   ]
  },
  {
   "cell_type": "markdown",
   "metadata": {},
   "source": [
    "# Βασική γνώση απαραίτητη για τις ασκήσεις\n",
    "\n",
    "### Shapefile:\n",
    "Shapefile ειναι το format που θα χρησιμοποιήσουμε για τα διανυσματικά δεδομένα. Για την σωστή χρήση του αρχείου shapefile, πρέπει να υπάρχουν στον ίδιο φάκελο τα παρακάτω υπο-αρχεία:\n",
    "* .shp\n",
    "* .dbf\n",
    "* .shx\n",
    "* .prj\n",
    "\n",
    "### Κωδικοί EPSG:\n",
    "Οι EPSG κωδικοί αντιπροσωπεύουν συστήματα αναφοράς και χρησιμοποιούνται στα προγράμματα και τα πακέτα λογισμικού GIS για τον ορισμό / μετασχηματισμό / διαχείριση συστημάτων αναφοράς.\n"
   ]
  },
  {
   "cell_type": "markdown",
   "metadata": {},
   "source": [
    "# Γεωμετρικά αντικείμενα\n",
    "\n",
    "* Point\n",
    "* Line\n",
    "* Polygon\n",
    "------------------------\n",
    "* MultiPoint\n",
    "* MultiLineString\n",
    "* MultiPolygon"
   ]
  },
  {
   "cell_type": "markdown",
   "metadata": {},
   "source": [
    "### Point"
   ]
  },
  {
   "cell_type": "code",
   "execution_count": null,
   "metadata": {},
   "outputs": [],
   "source": [
    "from shapely.geometry import Point, LineString, Polygon\n",
    "\n",
    "# Create a point\n",
    "point1 = Point(2.3, 4.2)\n",
    "point2 = Point(7.3, -35.1)\n",
    "point3 = Point(8.26, -3.456)\n",
    "point3D = Point(10.26, -2.456, 0.57)"
   ]
  },
  {
   "cell_type": "code",
   "execution_count": null,
   "metadata": {},
   "outputs": [],
   "source": [
    "point1"
   ]
  },
  {
   "cell_type": "code",
   "execution_count": null,
   "metadata": {},
   "outputs": [],
   "source": [
    "# Calculate the distance between point1 and point2\n",
    "point_dist = point1.distance(point2)\n",
    "\n",
    "print(\"Distance between the points is {0:.2f} meters\".format(point_dist))"
   ]
  },
  {
   "cell_type": "markdown",
   "metadata": {},
   "source": [
    "### LineString"
   ]
  },
  {
   "cell_type": "code",
   "execution_count": null,
   "metadata": {},
   "outputs": [],
   "source": [
    "# Create a LineString from our Point objects\n",
    "line = LineString([point1, point2, point3])\n",
    "\n",
    "# It is also possible to produce the same outcome using coordinate tuples\n",
    "line2 = LineString([(2.3, 4.2), (7.3, -35.1), (8.26, -3.456)])"
   ]
  },
  {
   "cell_type": "code",
   "execution_count": null,
   "metadata": {},
   "outputs": [],
   "source": [
    "line"
   ]
  },
  {
   "cell_type": "code",
   "execution_count": null,
   "metadata": {},
   "outputs": [],
   "source": [
    "# Get the lenght of the line\n",
    "l_length = line.length\n",
    "\n",
    "# Get the centroid of the line\n",
    "l_centroid = line.centroid\n",
    "\n",
    "# Print the outputs\n",
    "print(\"Length of our line: {0:.2f}\".format(l_length))\n",
    "print(\"Centroid of our line: \", l_centroid)\n",
    "print(\"Type of the centroid:\", type(l_centroid))"
   ]
  },
  {
   "cell_type": "markdown",
   "metadata": {},
   "source": [
    "### Polygon"
   ]
  },
  {
   "cell_type": "code",
   "execution_count": null,
   "metadata": {},
   "outputs": [],
   "source": [
    "# Create a Polygon from the coordinates\n",
    "poly = Polygon([(2.3, 4.2), (7.3, -35.1), (8.26, -3.456)])\n",
    "\n",
    "# It is also possible to produce the same outcome using a list of lists which contain the point coordinates.\n",
    "# We can do this using the point objects we created before and a list comprehension:\n",
    "# --> here, we pass a list of lists as input when creating the Polygon (the linst comprehension generates this list: [[2.2, 4.2], [7.2, -25.1], [9.26, -2.456]]):\n",
    "poly2 = Polygon([[p.x, p.y] for p in [point1, point2, point3]])\n"
   ]
  },
  {
   "cell_type": "code",
   "execution_count": null,
   "metadata": {},
   "outputs": [],
   "source": [
    "poly"
   ]
  },
  {
   "cell_type": "code",
   "execution_count": null,
   "metadata": {},
   "outputs": [],
   "source": [
    "print('poly:', poly)\n",
    "print('poly2:', poly2)"
   ]
  },
  {
   "cell_type": "code",
   "execution_count": null,
   "metadata": {},
   "outputs": [],
   "source": [
    "# Get the centroid of the Polygon\n",
    "poly_centroid = poly.centroid\n",
    "\n",
    "# Get the area of the Polygon\n",
    "poly_area = poly.area\n",
    "\n",
    "poly_bbox = poly.bounds\n",
    "\n",
    "# Print the outputs\n",
    "print(\"Poly centroid: \", poly_centroid)\n",
    "print(\"Poly Area: \", poly_area)\n",
    "print(\"Poly Bounding Box: \", poly_bbox)"
   ]
  },
  {
   "cell_type": "markdown",
   "metadata": {},
   "source": [
    "# Διανυσματικά δεδομένα\n",
    "\n",
    "Με τη χρήση της βιβλιοθήκης `Geopandas` μπορούμε να διαχειριστούμε γεωχωρικά δεδομένα. Το `Geopandas` αποτελεί επέκταση της βιβλιοθήκης για data analysis `Pandas` έτσι ώστε να είναι δυνατή η ανάλυση γεωχωρικών δεδομένων."
   ]
  },
  {
   "cell_type": "markdown",
   "metadata": {},
   "source": [
    "### Εισαγωγή και ανάγνωση ενός αρχείου Shapefile"
   ]
  },
  {
   "cell_type": "code",
   "execution_count": null,
   "metadata": {},
   "outputs": [],
   "source": [
    "import geopandas as gpd\n",
    "\n",
    "# Read file from Shapefile\n",
    "fp = \"data/natura/gr_natura_v30.shp\"\n",
    "data = gpd.read_file(fp)\n",
    "\n",
    "type(data)"
   ]
  },
  {
   "cell_type": "code",
   "execution_count": null,
   "metadata": {},
   "outputs": [],
   "source": [
    "print(data.columns)"
   ]
  },
  {
   "cell_type": "markdown",
   "metadata": {},
   "source": [
    "### Οπτικοποίηση του Shapefile αρχείου"
   ]
  },
  {
   "cell_type": "code",
   "execution_count": null,
   "metadata": {},
   "outputs": [],
   "source": [
    "%matplotlib inline\n",
    "data.plot()"
   ]
  },
  {
   "cell_type": "markdown",
   "metadata": {},
   "source": [
    "### Υπολογισμός του εμβαδού των πρώτων πέντε οντοτήτων"
   ]
  },
  {
   "cell_type": "code",
   "execution_count": null,
   "metadata": {},
   "outputs": [],
   "source": [
    "# Iterate over rows and print the area of a Polygon\n",
    "for index, row in data[0:5].iterrows():\n",
    "\n",
    "    # Get the area from the shapely-object stored in the geometry-column\n",
    "    poly_area = row['geometry'].area\n",
    "\n",
    "    # Print info\n",
    "    print(\"Polygon area at index {index} is: {area:.2f} m^2\".format(index=index, area=poly_area))\n",
    "    "
   ]
  },
  {
   "cell_type": "markdown",
   "metadata": {},
   "source": [
    "### Επαλήθευση του αποτελέσματος εξάγωντας  τις αντίστοιχες τιμές από την περιγραφική πληροφορία του αρχείου "
   ]
  },
  {
   "cell_type": "code",
   "execution_count": null,
   "metadata": {},
   "outputs": [],
   "source": [
    "# It is possible to get a specific column by specifying the column name within square brackets []\n",
    "print(data['Shape_Area'][0:5])"
   ]
  },
  {
   "cell_type": "markdown",
   "metadata": {},
   "source": [
    "### Μετασχηματισμός προβολικού συστήματος"
   ]
  },
  {
   "cell_type": "code",
   "execution_count": null,
   "metadata": {},
   "outputs": [],
   "source": [
    "# EPSG information\n",
    "print(data.crs)\n",
    "\n",
    "print(data['geometry'].head())"
   ]
  },
  {
   "cell_type": "code",
   "execution_count": null,
   "metadata": {},
   "outputs": [],
   "source": [
    "# Let's make a backup copy of our data\n",
    "data_ggrs87 = data.copy()\n",
    "\n",
    "# Reproject the data\n",
    "data = data.to_crs(epsg=4326)\n",
    "\n",
    "print(data.crs)\n",
    "\n",
    "print(data['geometry'].head())"
   ]
  },
  {
   "cell_type": "markdown",
   "metadata": {},
   "source": [
    "### Εγγραφή των νέων δεδομένων στο δίσκο"
   ]
  },
  {
   "cell_type": "code",
   "execution_count": null,
   "metadata": {},
   "outputs": [],
   "source": [
    "natura2000_wgs84 = 'data/natura/natura_wgs84.shp'\n",
    "data.to_file(natura2000_wgs84)"
   ]
  },
  {
   "cell_type": "markdown",
   "metadata": {},
   "source": [
    "# Τοπολογικές σχέσεις\n",
    "\n",
    "### Σημείο εντός ή εκτός πολυγώνου\n",
    "Για να ελέγξουμε αν ένα σημείο είναι εντός ή εκτός πολυγώνου μπορούμε να χρησιμοποιήσουμε τις συναρτήσεις της βιβλιοθήκης shapely:\n",
    "* .within()\n",
    "* .contains()"
   ]
  },
  {
   "cell_type": "code",
   "execution_count": null,
   "metadata": {},
   "outputs": [],
   "source": [
    "from shapely.geometry import Point, Polygon\n",
    "\n",
    "# Create Point objects\n",
    "p1 = Point(24.0217, 35.3031)\n",
    "p2 = Point(24.1468, 35.3215)\n",
    "\n",
    "# Create a Polygon object\n",
    "coords = [(23.9308, 35.3094), (24.0591, 353459), (24.1432, 35.2873)]\n",
    "poly = Polygon(coords)\n",
    "\n",
    "print(p1)\n",
    "print(p2)\n",
    "print(poly)"
   ]
  },
  {
   "cell_type": "code",
   "execution_count": null,
   "metadata": {},
   "outputs": [],
   "source": [
    "# Check if p1 is within the polygon using the within function\n",
    "p1.within(poly)"
   ]
  },
  {
   "cell_type": "code",
   "execution_count": null,
   "metadata": {},
   "outputs": [],
   "source": [
    "# Check if p2 is within the polygon\n",
    "p2.within(poly)"
   ]
  },
  {
   "cell_type": "code",
   "execution_count": null,
   "metadata": {},
   "outputs": [],
   "source": [
    "# Does polygon contain p1?\n",
    "poly.contains(p1)"
   ]
  },
  {
   "cell_type": "code",
   "execution_count": null,
   "metadata": {},
   "outputs": [],
   "source": [
    "# Does polygon contain p2?\n",
    "poly.contains(p2)"
   ]
  },
  {
   "cell_type": "markdown",
   "metadata": {},
   "source": [
    "### Τομή\n",
    "Για να ελέγξουμε αν ένα αντικείμενο τέμνεται με κάποιο άλλο χρησιμοποιούμε την συνάρτηση:\n",
    "* intersects()"
   ]
  },
  {
   "cell_type": "code",
   "execution_count": null,
   "metadata": {},
   "outputs": [],
   "source": [
    "from shapely.geometry import LineString, MultiLineString\n",
    "\n",
    "# Create two lines\n",
    "line_a = LineString([(0, 0), (1, 1)])\n",
    "line_b = LineString([(1, 1), (0, 2)])\n",
    "\n",
    "line_a.intersects(line_b)"
   ]
  },
  {
   "cell_type": "code",
   "execution_count": null,
   "metadata": {},
   "outputs": [],
   "source": []
  }
 ],
 "metadata": {
  "anaconda-cloud": {},
  "kernelspec": {
   "display_name": "Python 3",
   "language": "python",
   "name": "python3"
  },
  "language_info": {
   "codemirror_mode": {
    "name": "ipython",
    "version": 3
   },
   "file_extension": ".py",
   "mimetype": "text/x-python",
   "name": "python",
   "nbconvert_exporter": "python",
   "pygments_lexer": "ipython3",
   "version": "3.8.3"
  }
 },
 "nbformat": 4,
 "nbformat_minor": 4
}
