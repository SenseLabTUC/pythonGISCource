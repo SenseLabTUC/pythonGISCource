{
 "cells": [
  {
   "cell_type": "markdown",
   "metadata": {},
   "source": [
    "<img src=\"img/tuc_logo.png\">\n",
    "\n",
    "# <center> Πολυτεχνείο Κρήτης </center>\n",
    "\n",
    "## <center> Γεωγραφικά Συστήματα Πληροφοριών </center>\n",
    "\n",
    "### Διδάσκων: Παναγιώτης Παρτσινέβελος, Αν. Καθηγητής\n",
    "### Εργαστήριο: Nίκος Σπανουδάκης - Γεώργιος Πετράκης"
   ]
  },
  {
   "cell_type": "markdown",
   "metadata": {},
   "source": [
    "### Όνομα / Επίθετο:"
   ]
  },
  {
   "cell_type": "markdown",
   "metadata": {},
   "source": []
  },
  {
   "cell_type": "markdown",
   "metadata": {},
   "source": [
    "# Σειρά Ασκήσεων Python"
   ]
  },
  {
   "cell_type": "markdown",
   "metadata": {},
   "source": [
    "1) Με τη χρήση της Python δημιουργείστε ένα πρόγραμμα το οποίο θα δημιουργεί τα σημεία `Α(25, 12)` και `Β(43, 55)` και `Γ(100, 150)` ενώ στη συνέχεια να υπολογίζει την απόσταση του σημείου Α με το σημείο Γ και του σημείου Β με το σημείο Γ. Τέλος να συγκρίνει τις δύο αποστάσεις και να εμφανίζει την μεγαλύτερη. Για να λύσετε την άσκσηση θα χρησιμοποιείσετε την βιβλιοθήκη Shapely."
   ]
  },
  {
   "cell_type": "code",
   "execution_count": 2,
   "metadata": {},
   "outputs": [
    {
     "name": "stdout",
     "output_type": "stream",
     "text": [
      "157.0636813525011\n"
     ]
    }
   ],
   "source": [
    "from shapely.geometry import Point\n",
    "\n",
    "A = Point((25, 12))\n",
    "B = Point((43, 55))\n",
    "C = Point((100, 150))\n",
    "\n",
    "d1 = A.distance(C)\n",
    "d2 = B.distance(C)\n",
    "\n",
    "if d1 > d2:\n",
    "    print(d1)\n",
    "else:\n",
    "    print(d2)"
   ]
  },
  {
   "cell_type": "markdown",
   "metadata": {},
   "source": [
    "2) Δημιουργείστε μία συνάρτηση με το όνομα distCalc(), η οποία θα δέχεται τρεις παραμέτρους (point1, point2, point3). Στη συνέχεια, θα δημιουργεί μέσω της βιβλιοθήκης shapely τα σημεία που point1, point2 και point3 και θα υπολογίζει την απόσταση του ṕoint1 με το point3 και του point2 με το Point3. Τέλος θα εμφανίζει την μεγαλύτερη απόσταση. Καλέστε την συνάρτηση με τα σημεία `(25, 12)` και `(43, 55)` και `(100, 150)` . Αν έχετε ακολουθήσει σωστά την διαδικασία, θα πρέπει να σας εμφανίσει την μεγαλύτερη απόσταση."
   ]
  },
  {
   "cell_type": "code",
   "execution_count": 13,
   "metadata": {},
   "outputs": [
    {
     "name": "stdout",
     "output_type": "stream",
     "text": [
      "157.0636813525011\n"
     ]
    }
   ],
   "source": [
    "from shapely.geometry import Point\n",
    "\n",
    "def distCalc(point1, point2, point3):\n",
    "    x1, y1 = point1\n",
    "    x2, y2 = point2\n",
    "    x3, y3 = point3\n",
    "    \n",
    "    A = Point((x1, y1))\n",
    "    B = Point((x2, y2))\n",
    "    C = Point((x3, y3))\n",
    "    \n",
    "    d1 = A.distance(C)\n",
    "    d2 = B.distance(C)\n",
    "    \n",
    "    if d1 > d2:\n",
    "        print(d1)\n",
    "    else:\n",
    "        print(d2)\n",
    "\n",
    "distCalc((25, 12), (43, 55), (100, 150))"
   ]
  },
  {
   "cell_type": "markdown",
   "metadata": {},
   "source": [
    "3) Δημιουργήστε μια συνάρτηση (function) που να ονομάζεται `create_buffer()` και θα δέχεται τρεις παραμέτρους (x, y, buffer_value). Οι δύο πρώτες παράμετροι θα είναι οι συντεταγμένες του σημείου ενώ η τρίτη παράμετρος θα είναι η τιμή για τη ζώνη buffer. Η συνάρτηση θα δημιουργεί ένα Point αντικείμενο και θα εφαρμόζει μια ζώνη buffer με τιμή buffer_value στο σημείο αυτό. Τέλος η συνάρτηση θα επιστρέφει την ζώνη buffer που δημιουργήθηκε. Αφού ολοκληρώσετε την συνάρτηση, δημιουργήστε τα σημεία A = (34, 32) με τιμή buffer 10 και B = (35, 70) με τιμή buffer 20 και εμφανίστε ΜΟΝΟ την τομή τους."
   ]
  },
  {
   "cell_type": "code",
   "execution_count": 26,
   "metadata": {},
   "outputs": [
    {
     "data": {
      "image/svg+xml": [
       "<svg xmlns=\"http://www.w3.org/2000/svg\" xmlns:xlink=\"http://www.w3.org/1999/xlink\" width=\"100.0\" height=\"100.0\" viewBox=\"24.698634582116473 29.27397293200863 19.60273083576705 13.452054135982745\" preserveAspectRatio=\"xMinYMin meet\"><g transform=\"matrix(1,0,0,-1,0,72.0)\"><path fill-rule=\"evenodd\" fill=\"#66cc99\" stroke=\"#555555\" stroke-width=\"0.39205461671534103\" opacity=\"0.6\" d=\"M 25.424661650107844,37.1208470459501 L 25.685303876974544,37.55570233019602 L 26.26989546637263,38.34393284163645 L 26.928932188134524,39.071067811865476 L 27.65606715836354,39.73010453362737 L 28.44429766980397,40.31469612302545 L 29.286032631740014,40.819212643483546 L 30.17316567634909,41.23879532511286 L 31.097153227455358,41.56940335732209 L 32.0490967798387,41.8078528040323 L 33.01982859670437,41.95184726672197 L 33.99999999999997,42.0 L 34.98017140329557,41.95184726672197 L 35.95090322016125,41.80785280403231 L 36.902846772544585,41.5694033573221 L 37.82683432365086,41.23879532511288 L 38.71396736825994,40.81921264348357 L 39.555702330195984,40.31469612302548 L 40.343932841636416,39.730104533627404 L 41.07106781186543,39.07106781186552 L 41.73010453362733,38.3439328416365 L 42.31469612302541,37.55570233019608 L 42.81921264348352,36.713967368260036 L 43.23879532511284,35.826834323650964 L 43.56940335732207,34.90284677254469 L 43.57533834989215,34.87915295404989 L 43.314696123025456,34.44429766980398 L 42.730104533627376,33.65606715836355 L 42.07106781186548,32.92893218813453 L 41.34393284163646,32.26989546637264 L 40.55570233019603,31.68530387697455 L 39.713967368259986,31.180787356516454 L 38.82683432365091,30.76120467488714 L 37.902846772544635,30.430596642677916 L 36.950903220161294,30.1921471959677 L 35.98017140329562,30.048152733278034 L 35.000000000000014,30.0 L 34.019828596704414,30.04815273327803 L 33.049096779838735,30.192147195967692 L 32.097153227455394,30.430596642677905 L 31.17316567634912,30.761204674887125 L 30.286032631740042,31.18078735651644 L 29.444297669803994,31.685303876974537 L 28.656067158363562,32.26989546637262 L 27.92893218813454,32.92893218813451 L 27.269895466372642,33.656067158363534 L 26.685303876974558,34.444297669803966 L 26.180787356516458,35.286032631740014 L 25.76120467488714,36.173165676349086 L 25.430596642677916,37.097153227455365 L 25.424661650107844,37.1208470459501 z\" /></g></svg>"
      ],
      "text/plain": [
       "<shapely.geometry.polygon.Polygon at 0x7fa8bc6f0160>"
      ]
     },
     "execution_count": 26,
     "metadata": {},
     "output_type": "execute_result"
    }
   ],
   "source": [
    "from shapely.geometry import Point\n",
    "\n",
    "def create_buffer(x, y, b):\n",
    "    p = Point(x, y)\n",
    "    result = p.buffer(10)\n",
    "    return(result)\n",
    "\n",
    "b1 = create_buffer(34, 32, 10)\n",
    "b2 = create_buffer(35, 40, 20)\n",
    "\n",
    "b1.intersection(b2)"
   ]
  },
  {
   "cell_type": "markdown",
   "metadata": {},
   "source": [
    "6) Δημιουργήστε μία κλάση η οποία να δημιουργεί ένα Polygon αντικείμενο ενώ με τις μεθόδους `get_area()` και `get_centroid()` και `get_length` που θα περιλαμβάνει, θα υπολογίζει την επιφάνεια του και το κέντρο βάρους του (centroid) και την περίμετρο του αντίστοιχα. Αφού ολοκληρώσετε την κλάση, δημιουργείστε μέσω αυτής δύο ξεχωριστά αντικείμενα, το `polygon1` με συντεταγμένες: `[(4, 5), (6, 7), (8, 2), (3, 5)]`και το `polygon2` με συντεταγμένες: `[(10, 7), (7, 9), (5, 1), (4, 6)]`. Για κάθε ένα ξεχωριστά, υπολογίστε το εμβαδόν,το κέντρο βάρους και την περίμετρο του. του Δουλέψτε αποκλειστικά με τη βιβλιοθήκη Shapely."
   ]
  },
  {
   "cell_type": "code",
   "execution_count": 36,
   "metadata": {},
   "outputs": [
    {
     "name": "stdout",
     "output_type": "stream",
     "text": [
      "myPolygon1 area:  8.5\n",
      "myPolygon1 centroid:  POINT (5.823529411764706 4.549019607843137)\n",
      "myPolygon1 length:  15.044543826725995\n",
      "myPolygon2 area:  3.0\n",
      "myPolygon2 centroid:  POINT (4 6.333333333333333)\n",
      "myPolygon2 length:  16.811558801764217\n"
     ]
    }
   ],
   "source": [
    "from shapely.geometry import Polygon\n",
    "\n",
    "class geo():\n",
    "    def __init__(self, poly):\n",
    "        self.poly = Polygon(poly)\n",
    "    def get_area(self):\n",
    "        return self.poly.area\n",
    "    def get_centroid(self):\n",
    "        return self.poly.centroid\n",
    "    def get_length(self):\n",
    "        return self.poly.length\n",
    "\n",
    "poly_coords1 = [(4, 5), (6, 7), (8, 2), (3, 5)]\n",
    "poly_coords2 = [(3, 7), (4, 9), (5, 1), (4, 6)]\n",
    "myPolygon1 = geo(poly_coords1)\n",
    "myPolygon2 = geo(poly_coords2)\n",
    "\n",
    "print('myPolygon1 area: ', myPolygon1.get_area())\n",
    "print('myPolygon1 centroid: ', myPolygon1.get_centroid())\n",
    "print('myPolygon1 length: ', myPolygon1.get_length())\n",
    "print('myPolygon2 area: ', myPolygon2.get_area())\n",
    "print('myPolygon2 centroid: ', myPolygon2.get_centroid())\n",
    "print('myPolygon2 length: ', myPolygon2.get_length())\n",
    "\n",
    "\n"
   ]
  },
  {
   "cell_type": "markdown",
   "metadata": {},
   "source": [
    "7 α) Γράψτε ένα πρόγραμμα το οποίο να διαβάζει το αρχείο oikismoi2000, και θα υπολογίζει τα εμβαδά των τελευταίων 10 οντοτήτων του αρχείου ενώ θα εμφανίζει στην οθόνη το σύστημα αναφοράς του (EPSG). Στη συνέχεια δημιουργήστε ένα αντίγραφο του αρχείου χρησιμοποιώντας την συνάρτηση `copy()` που θα λειτουργεί σαν backup και μετασχηματίστε το σύστημα αναφοράς του αρχείου που έχει φορτωθεί στη μνήμη, στο σύστημα WGS84. Στη συνέχεια γράψτε το αποτέλεσμα στο δίσκο δημιουργώντας ένα νέο shapefile με το όνομα `oikismoi2000_wgs84.shp`. <br>\n",
    "β) Γράψτε μία for loop που να ελέγχει αν τo σημείo `(509699, 3929906)` βρίσκεται εντός κάποιου από τους 1252 οικισμούς που βρίσκονται στο αρχικό σας αρχείο και εμφανίστε τις συντεταγμένες του αντίστοιχου πολυγώνου."
   ]
  },
  {
   "cell_type": "code",
   "execution_count": 37,
   "metadata": {},
   "outputs": [
    {
     "name": "stdout",
     "output_type": "stream",
     "text": [
      "Polygon area at index 1242 is: 400193.34 m^2\n",
      "Polygon area at index 1243 is: 465760.47 m^2\n",
      "Polygon area at index 1244 is: 224222.21 m^2\n",
      "Polygon area at index 1245 is: 96285.49 m^2\n",
      "Polygon area at index 1246 is: 19305.08 m^2\n",
      "Polygon area at index 1247 is: 48942.71 m^2\n",
      "Polygon area at index 1248 is: 39317.21 m^2\n",
      "Polygon area at index 1249 is: 362510.93 m^2\n",
      "Polygon area at index 1250 is: 226093.76 m^2\n",
      "Polygon area at index 1251 is: 701.34 m^2\n",
      "POLYGON ((509865.3592542881 3929548.638251425, 509696.6745363229 3929617.244814494, 509531.2289363548 3929688.595818559, 509345.3719953902 3929764.014680642, 509224.9653195267 3929762.346238901, 509228.4629499345 3930038.373959767, 509229.5926665964 3930196.003795115, 509249.654908587 3930190.201543092, 509439.2901754661 3930150.176246859, 509603.8485963654 3930115.015944648, 509610.0483539026 3930328.107140763, 509833.4150856545 3930333.870868255, 509971.2610075251 3930323.958838003, 510034.7488305578 3930274.143834073, 510186.7958646475 3930155.719560235, 510286.661448718 3930071.907884367, 510244.4957409899 3929967.644216887, 510169.573474458 3929782.995193815, 510136.4637836123 3929729.264196105, 510041.3424929905 3929597.63990785, 509899.0966692253 3929561.262880296, 509865.3592542881 3929548.638251425))\n"
     ]
    }
   ],
   "source": [
    "import geopandas as gpd\n",
    "from shapely.geometry import Point\n",
    "\n",
    "\n",
    "# Read file from Shapefile\n",
    "fp = \"data/oikismoi2000/oikismoi2000.shp\"\n",
    "data = gpd.read_file(fp)\n",
    "\n",
    "# output file\n",
    "output = \"data/oikismoi2000/oikismoi2000_wgs84.shp\"\n",
    "\n",
    "# Iterate over rows and print the area of a Polygon\n",
    "for index, row in data[-10:].iterrows():\n",
    "\n",
    "    # Get the area from the shapely-object stored in the geometry-column\n",
    "    poly_area = row['geometry'].area\n",
    "\n",
    "    # Print info\n",
    "    print(\"Polygon area at index {index} is: {area:.2f} m^2\".format(index=index, area=poly_area))\n",
    "    \n",
    "oikismoi2000_copy = data.copy()\n",
    "\n",
    "oikismoi_wgs84 = data.to_crs(epsg=4326)\n",
    "oikismoi_wgs84.to_file(output)\n",
    "\n",
    "pt = Point(509699, 3929906)\n",
    "\n",
    "for index, row in data[:].iterrows():\n",
    "\n",
    "    # Get the area from the shapely-object stored in the geometry-column\n",
    "    des = row['geometry'].contains(pt)\n",
    "    if des == True:\n",
    "        print(row['geometry'])"
   ]
  },
  {
   "cell_type": "markdown",
   "metadata": {},
   "source": [
    "# Απαραίτητες οδηγίες για την επίλυση και υποβολή των ασκήσεων\n",
    "Κάτω απο κάθε εκφώνηση βρίσκεται ένα πεδίο (cell) (# your code here...) που θα γράψετε τον κώδικα σας ώστε να επιλυθεί η άσκηση. Για να εκτελεστεί ο κώδικας σε κάθε cell θα πρέπει να επιλέγετε shift-enter. Τα αποτελέσματα ή τα σφάλματα που θα εξάγονται, θα εμφανίζονται ακριβώς από κάτω. <br>\n",
    "\n",
    "Πριν την υποβολή επιλέξτε με το ποντίκι το όνομα του αρχείου: Exercises_Python_all_final που βρίσκεται πάνω αριστερά της οθόνης και μετονομάστε το σε: Ex_python_epitheto_onoma\n",
    "\n",
    "Επίσης στο κενό cell που υπάρχει κάτω από το \"Ονομα / Επίθετο\", πληκτρολογείστε το όνομα και το επίθετο σας. Στη συνέχεια επιλέξτε shift-enter.\n",
    "\n",
    "Η υποβολή της άσκησης θα γίνεται αποδεκτή ΜΟΝΟ μέσω του e-class. Κατά την υποβολή της σειράς ασκήσεων Python θα παραδώσετε ΜΟΝΟ το αρχείο .ipynb που περιέχει τις εκφωνήσεις με συμπληρωμένο τον κώδικα που γράψατε για κάθε άσκηση. \n",
    "\n",
    "Η προθεσμία υποβολής της σειράς ασκήσεων Python είναι την Τετάρτη 26 / 10 / 2022 και ώρα 00:00 το βράδυ."
   ]
  },
  {
   "cell_type": "code",
   "execution_count": null,
   "metadata": {},
   "outputs": [],
   "source": []
  }
 ],
 "metadata": {
  "kernelspec": {
   "display_name": "Python 3",
   "language": "python",
   "name": "python3"
  },
  "language_info": {
   "codemirror_mode": {
    "name": "ipython",
    "version": 3
   },
   "file_extension": ".py",
   "mimetype": "text/x-python",
   "name": "python",
   "nbconvert_exporter": "python",
   "pygments_lexer": "ipython3",
   "version": "3.8.0"
  }
 },
 "nbformat": 4,
 "nbformat_minor": 4
}
