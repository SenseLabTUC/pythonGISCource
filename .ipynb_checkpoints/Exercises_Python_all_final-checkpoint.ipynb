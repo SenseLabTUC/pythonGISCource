{
 "cells": [
  {
   "cell_type": "markdown",
   "metadata": {},
   "source": [
    "<img src=\"img/tuc_logo.png\">\n",
    "\n",
    "# <center> Πολυτεχνείο Κρήτης </center>\n",
    "\n",
    "## <center> Γεωγραφικά Συστήματα Πληροφοριών </center>\n",
    "\n",
    "### Διδάσκων: Παναγιώτης Παρτσινέβελος, Αν. Καθηγητής\n",
    "### Εργαστήριο: Γεώργιος Πετράκης, Υπ. Διδάκτωρ"
   ]
  },
  {
   "cell_type": "markdown",
   "metadata": {},
   "source": [
    "### Όνομα / Επίθετο:"
   ]
  },
  {
   "cell_type": "markdown",
   "metadata": {},
   "source": []
  },
  {
   "cell_type": "markdown",
   "metadata": {},
   "source": [
    "# Σειρά Ασκήσεων Python"
   ]
  },
  {
   "cell_type": "markdown",
   "metadata": {},
   "source": [
    "1) Γράψτε ένα πρόγραμμα Python το οποίο να δέχεται από το πληκτρολόγιο τις καρτεσιανές συντεταγμένες δύο σημείων `Α(x1, y1)` και `Β(x2, y2)`  και να υπολογίζει το μήκος του ευθύγραμμου τμήματος ΑΒ με χρήση του τύπου: <br><br> AB = $\\sqrt{(x_2 - x_1)^2 + (y_2 - y_1)^2}$\n",
    "<br>"
   ]
  },
  {
   "cell_type": "code",
   "execution_count": null,
   "metadata": {},
   "outputs": [],
   "source": [
    "# Your code here..."
   ]
  },
  {
   "cell_type": "markdown",
   "metadata": {},
   "source": [
    "2) Γράψτε ένα πρόγραμμα Python το οποίο δέχεται από το πληκτρολόγιο τις καρτεσιανές συντεταγμένες (x, y) σημείων στο επίπεδο. Μετά από την εισαγωγή του ζεύγους συντεταγμένων(x, y) το πρόγραμμα πρέπει να εμφανίζει το μήνυμα \"Τ1\",  \"Τ2\",  \"Τ3\"  ή  \"Τ4\"  ανάλογα με το τεταρτημόριο στο οποίο ανήκει το σημείο του οποίου οι συντεταγμένες δόθηκαν."
   ]
  },
  {
   "cell_type": "code",
   "execution_count": null,
   "metadata": {},
   "outputs": [],
   "source": [
    "# Your code here..."
   ]
  },
  {
   "cell_type": "markdown",
   "metadata": {},
   "source": [
    "3) Δημιουργήστε μια συνάρτηση (function) που να ονομάζεται `create_point()` και θα δέχεται δύο παραμέτρους (x, y). Η συνάρτηση θα δημιουργεί ένα Point αντικείμενο και θα το επιστρέφει. Χρησιμοποιείστε τη βιβλιοθήκη shapely. Τέλος καλέστε την συνάρτηση ώστε να αποδείξετε τη λειτουργία της."
   ]
  },
  {
   "cell_type": "code",
   "execution_count": null,
   "metadata": {},
   "outputs": [],
   "source": [
    "# Your code here..."
   ]
  },
  {
   "cell_type": "markdown",
   "metadata": {},
   "source": [
    "4) Δημιουγήστε μια συνάρτηση που να ονομάζεται `create_line()` η οποία να δέχεται ως παράμετρο μία λίστα από shapely point αντικείμενα που θα ονομάζονται points, και θα επιστρέφει ένα LineString αντικείμενο από τα σημεία που εισήχθησαν σαν input. Η συνάρτηση θα ελέγχει αν η παράμετρος είναι λίστα ενώ αν δεν είναι, θα βγάζει το μήνυμα λάθους: `Input should be a list`. Επίσης θα ελέγχει αν η λίστα που εισάγεται έχει τουλάχιστον δύο τιμές. Σε διαφορετική περίπτωση θα πρέπει να επιστρέφει το μήνυμα λάθους: `LineString object requires at least two Points!`. Τέλος καλέστε την συνάρτηση ώστε να αποδείξετε τη λειτουργία της."
   ]
  },
  {
   "cell_type": "code",
   "execution_count": null,
   "metadata": {},
   "outputs": [],
   "source": [
    "# Your code here..."
   ]
  },
  {
   "cell_type": "markdown",
   "metadata": {},
   "source": [
    "5) Δημιουργήστε μία συνάρτηση με το όνομα `create_poly` όπου θα δέχεται την παράμετρο `coords`. H παράμετρος αυτή θα είναι μία λίστα από tuples. Η συνάρτηση θα δημιουργεί και θα επιστρέφει ένα Polygon αντικείμενο βασισμένο στις συντεταγμένες της παραμέτρου `coords`. Θα ελέγχει αν η παράμετρος είναι λίστα ενώ αν δεν είναι, θα βγάζει το μήνυμα λάθους: `Input should be a list`. Επίσης θα ελέγχει αν η λίστα που εισάγεται έχει τουλάχιστον τρεις τιμές. Σε διαφορετική περίπτωση θα πρέπει να επιστρέφει το μήνυμα λάθους: `Polygon object requires at least three Points!`. Τέλος καλέστε την συνάρτηση ώστε να αποδείξετε τη λειτουργία της."
   ]
  },
  {
   "cell_type": "code",
   "execution_count": null,
   "metadata": {},
   "outputs": [],
   "source": [
    "# Your code here..."
   ]
  },
  {
   "cell_type": "markdown",
   "metadata": {},
   "source": [
    "6) Δημιουργήστε μία κλάση η οποία να δημιουργεί ένα Polygon αντικείμενο ενώ με τις μεθόδους `get_area()` και `get_centroid()` που θα περιλαμβάνει, θα υπολογίζει την επιφάνεια του και το κέντρο βάρους του (centroid) αντίστοιχα. Αποδείξτε την λειτουργία της, δημιουργώντας το αντικείμενο `myPolygon` και υπολογίστε την επιφάνεια και το κέτρο βάρους του μέσω της κλάσης που φτιάξατε.\n",
    "<br><b>Προαιρετικά</b>: Προσθέστε περιορισμούς μέσω της λέξης κλειδί `assert`, ώστε να εμφανίζονται τα σφάλματα που αναφέρθηκαν στις παραπάνω ασκήσεις (`Input should be a list`, `Polygon object requires at least three Points!`) στις ανάλογες περιπτώσεις."
   ]
  },
  {
   "cell_type": "code",
   "execution_count": null,
   "metadata": {},
   "outputs": [],
   "source": [
    "# Your code here..."
   ]
  },
  {
   "cell_type": "markdown",
   "metadata": {},
   "source": [
    "7 α) Γράψτε ένα πρόγραμμα σε Python, το οποίο να διαβάζει το αρχείο oikismoi2000 (το οποίο θα κατεβάσετε από το e-class του μαθήματος), και θα υπολογίζει τα εμβαδά των τελευταίων 10 οντοτήτων του αρχείου ενώ θα εμφανίζει στην οθόνη το σύστημα αναφοράς του (EPSG). Στη συνέχεια δημιουργήστε ένα αντίγραφο του αρχείου χρησιμοποιώντας την συνάρτηση `copy()` που θα λειτουργεί σαν backup και μετασχηματίστε το σύστημα αναφοράς του αρχείου που έχει φορτωθεί στη μνήμη στο σύστημα WGS84. Στη συνέχεια γράψτε το αποτέλεσμα στο δίσκο δημιουργώντας ένα νέο shapefile με το όνομα `oikismoi2000_wgs84.shp`. <br>\n",
    "β) Γράψτε μία for loop που να ελέγχει αν τo σημείo (509699, 3929906) βρίσκεται εντός κάποιου από τους 1252 οικισμούς που βρίσκονται στο αρχικό σας αρχείο και εμφανίστε τις συντεταγμένες του αντίστοιχου πολυγώνου."
   ]
  },
  {
   "cell_type": "code",
   "execution_count": null,
   "metadata": {},
   "outputs": [],
   "source": [
    "# Your code here..."
   ]
  },
  {
   "cell_type": "markdown",
   "metadata": {},
   "source": [
    "<b>Tip</b>: Για να επιβεβαιώνεται ότι κάποιο στοιχείο που χρησιμοποιεί το πρόγραμμα είναι στη μορφή που θέλει ο προγραμματιστής χρησιμοποιείστε τη λέξη-κλειδί assert:"
   ]
  },
  {
   "cell_type": "code",
   "execution_count": 1,
   "metadata": {},
   "outputs": [
    {
     "name": "stdout",
     "output_type": "stream",
     "text": [
      "insert a positive number: -4\n"
     ]
    },
    {
     "ename": "AssertionError",
     "evalue": "please insert a positive number",
     "output_type": "error",
     "traceback": [
      "\u001b[0;31m---------------------------------------------------------------------------\u001b[0m",
      "\u001b[0;31mAssertionError\u001b[0m                            Traceback (most recent call last)",
      "\u001b[0;32m<ipython-input-1-5cc6be2e0861>\u001b[0m in \u001b[0;36m<module>\u001b[0;34m\u001b[0m\n\u001b[1;32m      1\u001b[0m \u001b[0mposNumber\u001b[0m \u001b[0;34m=\u001b[0m \u001b[0minput\u001b[0m\u001b[0;34m(\u001b[0m\u001b[0;34m'insert a positive number: '\u001b[0m\u001b[0;34m)\u001b[0m\u001b[0;34m\u001b[0m\u001b[0;34m\u001b[0m\u001b[0m\n\u001b[0;32m----> 2\u001b[0;31m \u001b[0;32massert\u001b[0m \u001b[0mint\u001b[0m\u001b[0;34m(\u001b[0m\u001b[0mposNumber\u001b[0m\u001b[0;34m)\u001b[0m \u001b[0;34m>\u001b[0m \u001b[0;36m0\u001b[0m\u001b[0;34m,\u001b[0m \u001b[0;34m'please insert a positive number'\u001b[0m\u001b[0;34m\u001b[0m\u001b[0;34m\u001b[0m\u001b[0m\n\u001b[0m\u001b[1;32m      3\u001b[0m \u001b[0mprint\u001b[0m\u001b[0;34m(\u001b[0m\u001b[0mposNumber\u001b[0m\u001b[0;34m)\u001b[0m\u001b[0;34m\u001b[0m\u001b[0;34m\u001b[0m\u001b[0m\n",
      "\u001b[0;31mAssertionError\u001b[0m: please insert a positive number"
     ]
    }
   ],
   "source": [
    "posNumber = input('insert a positive number: ')\n",
    "assert int(posNumber) > 0, 'please insert a positive number'\n",
    "print(posNumber)"
   ]
  },
  {
   "cell_type": "markdown",
   "metadata": {},
   "source": [
    "# Απαραίτητες οδηγίες για την επίλυση και υποβολή των ασκήσεων\n",
    "Κάτω απο κάθε εκφώνηση βρίσκεται ένα πεδίο (cell) (# your code here...) που θα γράψετε τον κώδικα σας ώστε να επιλυθεί η άσκηση. Για να εκτελεστεί ο κώδικας σε κάθε cell θα πρέπει να επιλέγετε shift-enter. Τα αποτελέσματα ή τα σφάλματα που θα εξάγονται, θα εμφανίζονται ακριβώς από κάτω. <br>\n",
    "\n",
    "Πριν την υποβολή επιλέξτε με το ποντίκι το όνομα του αρχείου: Exercises_Python_all_final που βρίσκεται πάνω αριστερά της οθόνης και μετονομάστε το σε: Ex_python_epitheto_onoma\n",
    "\n",
    "Επίσης στο κενό cell που υπάρχει κάτω από το \"Ονομα / Επίθετο\", πληκτρολογείστε το όνομα και το επίθετο σας. Στη συνέχεια επιλέξτε shift-enter.\n",
    "\n",
    "Η υποβολή της άσκησης θα γίνεται αποδεκτή ΜΟΝΟ μέσω του e-class. Κατά την υποβολή της σειράς ασκήσεων Python θα παραδώσετε ΜΟΝΟ το αρχείο .ipynb που περιέχει τις εκφωνήσεις με συμπληρωμένο τον κώδικα που γράψατε για κάθε άσκηση. \n",
    "\n",
    "Η προθεσμία υποβολής της σειράς ασκήσεων Python είναι την Τετάρτη 18 / 11 / 2020 και ώρα 00:00 το βράδυ."
   ]
  }
 ],
 "metadata": {
  "kernelspec": {
   "display_name": "Python 3",
   "language": "python",
   "name": "python3"
  },
  "language_info": {
   "codemirror_mode": {
    "name": "ipython",
    "version": 3
   },
   "file_extension": ".py",
   "mimetype": "text/x-python",
   "name": "python",
   "nbconvert_exporter": "python",
   "pygments_lexer": "ipython3",
   "version": "3.8.2"
  }
 },
 "nbformat": 4,
 "nbformat_minor": 4
}
